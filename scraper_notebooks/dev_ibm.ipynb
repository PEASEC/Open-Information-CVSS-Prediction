{
 "cells": [
  {
   "cell_type": "code",
   "execution_count": 1,
   "outputs": [],
   "source": [
    "from selenium.webdriver.common.by import By\n",
    "from trafilatura import fetch_url, extract\n",
    "\n",
    "from selenium_scraper import setup_driver"
   ],
   "metadata": {
    "collapsed": false,
    "pycharm": {
     "name": "#%%\n"
    }
   }
  },
  {
   "cell_type": "code",
   "execution_count": 2,
   "outputs": [],
   "source": [
    "driver = setup_driver()"
   ],
   "metadata": {
    "collapsed": false,
    "pycharm": {
     "name": "#%%\n"
    }
   }
  },
  {
   "cell_type": "code",
   "execution_count": 3,
   "outputs": [],
   "source": [
    "url = 'https://www.ibm.com/support/pages/node/6525554'\n",
    "#url = 'http://www.ibm.com/support/docview.wss?uid=swg2C1000134'\n",
    "cve_id = 'CVE-2021-39052'\n",
    "#cve_id = 'CVE-2016-0202'\n",
    "driver.get(url)"
   ],
   "metadata": {
    "collapsed": false,
    "pycharm": {
     "name": "#%%\n"
    }
   }
  },
  {
   "cell_type": "code",
   "execution_count": 4,
   "outputs": [],
   "source": [
    "block = driver.find_element(By.CSS_SELECTOR, \"div.clearfix.text-formatted\")\n",
    "#clearfix text-formatted field field--name-field-vulnerability-details field--type-text-long field--label-above"
   ],
   "metadata": {
    "collapsed": false,
    "pycharm": {
     "name": "#%%\n"
    }
   }
  },
  {
   "cell_type": "code",
   "execution_count": 5,
   "outputs": [
    {
     "data": {
      "text/plain": "\"Vulnerability Details\\nCVEID:   CVE-2021-38947\\nDESCRIPTION:   IBM Spectrum Copy Data Management uses weaker than expected cryptographic algorithms that could allow an attacker to decrypt highly sensitive information.\\nCVSS Base score: 5.9\\nCVSS Temporal Score: See: https://exchange.xforce.ibmcloud.com/vulnerabilities/211242 for the current score.\\nCVSS Vector: (CVSS:3.0/AV:N/AC:H/PR:N/UI:N/S:U/C:H/I:N/A:N)\\n\\nCVEID:   CVE-2021-39052\\nDESCRIPTION:   IBM Spectrum Copy Data Management could allow a remote attacker to access the Spring Boot console without authorization.\\nCVSS Base score: 5.6\\nCVSS Temporal Score: See: https://exchange.xforce.ibmcloud.com/vulnerabilities/214523 for the current score.\\nCVSS Vector: (CVSS:3.0/AV:N/AC:H/PR:N/UI:N/S:U/C:L/I:L/A:L)\\n\\nCVEID:   CVE-2021-39065\\nDESCRIPTION:   IBM Spectrum Copy Data Management could allow a remote attacker to execute arbitrary commands on the system, caused by improper validation of user-supplied input by the Spectrum Copy Data Management Admin Console login and uploadcertificate function . A remote attacker could inject arbitrary shell commands which would be executed on the affected system.\\nCVSS Base score: 8.1\\nCVSS Temporal Score: See: https://exchange.xforce.ibmcloud.com/vulnerabilities/214958 for the current score.\\nCVSS Vector: (CVSS:3.0/AV:N/AC:H/PR:N/UI:N/S:U/C:H/I:H/A:H)\\n\\nCVEID:   CVE-2021-39054\\nDESCRIPTION:   IBM Spectrum Copy Data Management could allow a remote attacker to hijack the clicking action of the victim. By persuading a victim to visit a malicious Web site, a remote attacker could exploit this vulnerability to hijack the victim's click actions and possibly launch further attacks against the victim.\\nCVSS Base score: 5.4\\nCVSS Temporal Score: See: https://exchange.xforce.ibmcloud.com/vulnerabilities/214525 for the current score.\\nCVSS Vector: (CVSS:3.0/AV:N/AC:L/PR:L/UI:R/S:C/C:L/I:L/A:N)\\n\\nCVEID:   CVE-2021-39053\\nDESCRIPTION:   IBM Spectrum Copy Data Management could allow a remote attacker to obtain sensitive information, caused by the improper handling of requests for Spectrum Copy Data Management Admin Console. By sending a specially-crafted request, a remote attacker could exploit this vulnerability to obtain sensitive information.\\nCVSS Base score: 5.9\\nCVSS Temporal Score: See: https://exchange.xforce.ibmcloud.com/vulnerabilities/214524 for the current score.\\nCVSS Vector: (CVSS:3.0/AV:N/AC:H/PR:N/UI:N/S:U/C:H/I:N/A:N)\\n\\nCVEID:   CVE-2021-39058\\nDESCRIPTION:   IBM Spectrum Copy Data Management uses weaker than expected cryptographic algorithms that could allow an attacker to decrypt highly sensitive information.\\nCVSS Base score: 5.9\\nCVSS Temporal Score: See: https://exchange.xforce.ibmcloud.com/vulnerabilities/214617 for the current score.\\nCVSS Vector: (CVSS:3.0/AV:N/AC:H/PR:N/UI:N/S:U/C:H/I:N/A:N)\\n\\nCVEID:   CVE-2021-39064\\nDESCRIPTION:   IBM Spectrum Copy Data Management has weak authentication and password rules and incorrectly handles default credentials for the Spectrum Copy Data Management Admin console.\\nCVSS Base score: 5.9\\nCVSS Temporal Score: See: https://exchange.xforce.ibmcloud.com/vulnerabilities/214957 for the current score.\\nCVSS Vector: (CVSS:3.0/AV:N/AC:H/PR:N/UI:N/S:U/C:H/I:N/A:N)\""
     },
     "execution_count": 5,
     "metadata": {},
     "output_type": "execute_result"
    }
   ],
   "source": [
    "block_text: str = block.text\n",
    "block_text"
   ],
   "metadata": {
    "collapsed": false,
    "pycharm": {
     "name": "#%%\n"
    }
   }
  },
  {
   "cell_type": "code",
   "execution_count": 6,
   "outputs": [
    {
     "data": {
      "text/plain": "['Vulnerability Details',\n 'CVEID:   CVE-2021-38947',\n 'DESCRIPTION:   IBM Spectrum Copy Data Management uses weaker than expected cryptographic algorithms that could allow an attacker to decrypt highly sensitive information.',\n 'CVSS Base score: 5.9',\n 'CVSS Temporal Score: See: https://exchange.xforce.ibmcloud.com/vulnerabilities/211242 for the current score.',\n 'CVSS Vector: (CVSS:3.0/AV:N/AC:H/PR:N/UI:N/S:U/C:H/I:N/A:N)',\n '',\n 'CVEID:   CVE-2021-39052',\n 'DESCRIPTION:   IBM Spectrum Copy Data Management could allow a remote attacker to access the Spring Boot console without authorization.',\n 'CVSS Base score: 5.6',\n 'CVSS Temporal Score: See: https://exchange.xforce.ibmcloud.com/vulnerabilities/214523 for the current score.',\n 'CVSS Vector: (CVSS:3.0/AV:N/AC:H/PR:N/UI:N/S:U/C:L/I:L/A:L)',\n '',\n 'CVEID:   CVE-2021-39065',\n 'DESCRIPTION:   IBM Spectrum Copy Data Management could allow a remote attacker to execute arbitrary commands on the system, caused by improper validation of user-supplied input by the Spectrum Copy Data Management Admin Console login and uploadcertificate function . A remote attacker could inject arbitrary shell commands which would be executed on the affected system.',\n 'CVSS Base score: 8.1',\n 'CVSS Temporal Score: See: https://exchange.xforce.ibmcloud.com/vulnerabilities/214958 for the current score.',\n 'CVSS Vector: (CVSS:3.0/AV:N/AC:H/PR:N/UI:N/S:U/C:H/I:H/A:H)',\n '',\n 'CVEID:   CVE-2021-39054',\n \"DESCRIPTION:   IBM Spectrum Copy Data Management could allow a remote attacker to hijack the clicking action of the victim. By persuading a victim to visit a malicious Web site, a remote attacker could exploit this vulnerability to hijack the victim's click actions and possibly launch further attacks against the victim.\",\n 'CVSS Base score: 5.4',\n 'CVSS Temporal Score: See: https://exchange.xforce.ibmcloud.com/vulnerabilities/214525 for the current score.',\n 'CVSS Vector: (CVSS:3.0/AV:N/AC:L/PR:L/UI:R/S:C/C:L/I:L/A:N)',\n '',\n 'CVEID:   CVE-2021-39053',\n 'DESCRIPTION:   IBM Spectrum Copy Data Management could allow a remote attacker to obtain sensitive information, caused by the improper handling of requests for Spectrum Copy Data Management Admin Console. By sending a specially-crafted request, a remote attacker could exploit this vulnerability to obtain sensitive information.',\n 'CVSS Base score: 5.9',\n 'CVSS Temporal Score: See: https://exchange.xforce.ibmcloud.com/vulnerabilities/214524 for the current score.',\n 'CVSS Vector: (CVSS:3.0/AV:N/AC:H/PR:N/UI:N/S:U/C:H/I:N/A:N)',\n '',\n 'CVEID:   CVE-2021-39058',\n 'DESCRIPTION:   IBM Spectrum Copy Data Management uses weaker than expected cryptographic algorithms that could allow an attacker to decrypt highly sensitive information.',\n 'CVSS Base score: 5.9',\n 'CVSS Temporal Score: See: https://exchange.xforce.ibmcloud.com/vulnerabilities/214617 for the current score.',\n 'CVSS Vector: (CVSS:3.0/AV:N/AC:H/PR:N/UI:N/S:U/C:H/I:N/A:N)',\n '',\n 'CVEID:   CVE-2021-39064',\n 'DESCRIPTION:   IBM Spectrum Copy Data Management has weak authentication and password rules and incorrectly handles default credentials for the Spectrum Copy Data Management Admin console.',\n 'CVSS Base score: 5.9',\n 'CVSS Temporal Score: See: https://exchange.xforce.ibmcloud.com/vulnerabilities/214957 for the current score.',\n 'CVSS Vector: (CVSS:3.0/AV:N/AC:H/PR:N/UI:N/S:U/C:H/I:N/A:N)']"
     },
     "execution_count": 6,
     "metadata": {},
     "output_type": "execute_result"
    }
   ],
   "source": [
    "split_block_text = block_text.split('\\n')\n",
    "split_block_text"
   ],
   "metadata": {
    "collapsed": false,
    "pycharm": {
     "name": "#%%\n"
    }
   }
  },
  {
   "cell_type": "code",
   "execution_count": 7,
   "outputs": [
    {
     "data": {
      "text/plain": "[7]"
     },
     "execution_count": 7,
     "metadata": {},
     "output_type": "execute_result"
    }
   ],
   "source": [
    "cve_indexs = [index for index, element in enumerate(split_block_text) if cve_id in element]\n",
    "cve_indexs"
   ],
   "metadata": {
    "collapsed": false,
    "pycharm": {
     "name": "#%%\n"
    }
   }
  },
  {
   "cell_type": "code",
   "execution_count": 8,
   "outputs": [],
   "source": [
    "if len(cve_indexs) == 1:\n",
    "    index = cve_indexs[0]\n",
    "    text = split_block_text[index + 1]\n"
   ],
   "metadata": {
    "collapsed": false,
    "pycharm": {
     "name": "#%%\n"
    }
   }
  },
  {
   "cell_type": "code",
   "execution_count": 9,
   "outputs": [
    {
     "data": {
      "text/plain": "'IBM Spectrum Copy Data Management could allow a remote attacker to access the Spring Boot console without authorization.'"
     },
     "execution_count": 9,
     "metadata": {},
     "output_type": "execute_result"
    }
   ],
   "source": [
    "text = text.replace('DESCRIPTION:', '')\n",
    "text = text.strip()\n",
    "text"
   ],
   "metadata": {
    "collapsed": false,
    "pycharm": {
     "name": "#%%\n"
    }
   }
  },
  {
   "cell_type": "code",
   "execution_count": 10,
   "outputs": [],
   "source": [
    "driver.quit()"
   ],
   "metadata": {
    "collapsed": false,
    "pycharm": {
     "name": "#%%\n"
    }
   }
  },
  {
   "cell_type": "code",
   "execution_count": 11,
   "outputs": [
    {
     "name": "stdout",
     "output_type": "stream",
     "text": [
      "Security Bulletin: Miscellaneous security vulnerabilities in IBM Spectrum Copy Data Management\n",
      "Security Bulletin\n",
      "Summary\n",
      "IBM Spectrum Copy Data Management uses weaker than expected cryptographic algorithms, authentication, and password rules. In addition, IBM Spectrum Copy Data Management is vulnerable to execution of arbitrary commands on the system, obtaining sensitive information, and clickjacking.\n",
      "Vulnerability Details\n",
      "CVEID: CVE-2021-38947\n",
      "DESCRIPTION: IBM Spectrum Copy Data Management uses weaker than expected cryptographic algorithms that could allow an attacker to decrypt highly sensitive information.\n",
      "CVSS Base score: 5.9\n",
      "CVSS Temporal Score: See: https://exchange.xforce.ibmcloud.com/vulnerabilities/211242 for the current score.\n",
      "CVSS Vector: (CVSS:3.0/AV:N/AC:H/PR:N/UI:N/S:U/C:H/I:N/A:N)\n",
      "CVEID: CVE-2021-39052\n",
      "DESCRIPTION: IBM Spectrum Copy Data Management could allow a remote attacker to access the Spring Boot console without authorization.\n",
      "CVSS Base score: 5.6\n",
      "CVSS Temporal Score: See: https://exchange.xforce.ibmcloud.com/vulnerabilities/214523 for the current score.\n",
      "CVSS Vector: (CVSS:3.0/AV:N/AC:H/PR:N/UI:N/S:U/C:L/I:L/A:L)\n",
      "CVEID: CVE-2021-39065\n",
      "DESCRIPTION: IBM Spectrum Copy Data Management could allow a remote attacker to execute arbitrary commands on the system, caused by improper validation of user-supplied input by the Spectrum Copy Data Management Admin Console login and uploadcertificate function . A remote attacker could inject arbitrary shell commands which would be executed on the affected system.\n",
      "CVSS Base score: 8.1\n",
      "CVSS Temporal Score: See: https://exchange.xforce.ibmcloud.com/vulnerabilities/214958 for the current score.\n",
      "CVSS Vector: (CVSS:3.0/AV:N/AC:H/PR:N/UI:N/S:U/C:H/I:H/A:H)\n",
      "CVEID: CVE-2021-39054\n",
      "DESCRIPTION: IBM Spectrum Copy Data Management could allow a remote attacker to hijack the clicking action of the victim. By persuading a victim to visit a malicious Web site, a remote attacker could exploit this vulnerability to hijack the victim's click actions and possibly launch further attacks against the victim.\n",
      "CVSS Base score: 5.4\n",
      "CVSS Temporal Score: See: https://exchange.xforce.ibmcloud.com/vulnerabilities/214525 for the current score.\n",
      "CVSS Vector: (CVSS:3.0/AV:N/AC:L/PR:L/UI:R/S:C/C:L/I:L/A:N)\n",
      "CVEID: CVE-2021-39053\n",
      "DESCRIPTION: IBM Spectrum Copy Data Management could allow a remote attacker to obtain sensitive information, caused by the improper handling of requests for Spectrum Copy Data Management Admin Console. By sending a specially-crafted request, a remote attacker could exploit this vulnerability to obtain sensitive information.\n",
      "CVSS Base score: 5.9\n",
      "CVSS Temporal Score: See: https://exchange.xforce.ibmcloud.com/vulnerabilities/214524 for the current score.\n",
      "CVSS Vector: (CVSS:3.0/AV:N/AC:H/PR:N/UI:N/S:U/C:H/I:N/A:N)\n",
      "CVEID: CVE-2021-39058\n",
      "DESCRIPTION: IBM Spectrum Copy Data Management uses weaker than expected cryptographic algorithms that could allow an attacker to decrypt highly sensitive information.\n",
      "CVSS Base score: 5.9\n",
      "CVSS Temporal Score: See: https://exchange.xforce.ibmcloud.com/vulnerabilities/214617 for the current score.\n",
      "CVSS Vector: (CVSS:3.0/AV:N/AC:H/PR:N/UI:N/S:U/C:H/I:N/A:N)\n",
      "CVEID: CVE-2021-39064\n",
      "DESCRIPTION: IBM Spectrum Copy Data Management has weak authentication and password rules and incorrectly handles default credentials for the Spectrum Copy Data Management Admin console.\n",
      "CVSS Base score: 5.9\n",
      "CVSS Temporal Score: See: https://exchange.xforce.ibmcloud.com/vulnerabilities/214957 for the current score.\n",
      "CVSS Vector: (CVSS:3.0/AV:N/AC:H/PR:N/UI:N/S:U/C:H/I:N/A:N)\n",
      "Affected Products and Versions\n",
      "|Affected Product(s)||Version(s)|\n",
      "|IBM Spectrum Copy Data Management||2.2.13 and below|\n",
      "Remediation/Fixes\n",
      "|IBM Spectrum Copy Data Management Release||First Fixing|\n",
      "VRM Level\n",
      "|Platform||Link to Fix|\n",
      "|2.2||2.2.14||Linux||https://www.ibm.com/support/pages/node/6507419|\n",
      "Workarounds and Mitigations\n",
      "None\n",
      "Get Notified about Future Security Bulletins\n",
      "References\n",
      "Acknowledgement\n",
      "Change History\n",
      "10 December 2021: Initial Publication\n",
      "*The CVSS Environment Score is customer environment specific and will ultimately impact the Overall CVSS Score. Customers can evaluate the impact of this vulnerability in their environments by accessing the links in the Reference section of this Security Bulletin.\n",
      "Disclaimer\n",
      "According to the Forum of Incident Response and Security Teams (FIRST), the Common Vulnerability Scoring System (CVSS) is an \"industry open standard designed to convey vulnerability severity and help to determine urgency and priority of response.\" IBM PROVIDES THE CVSS SCORES \"\"AS IS\"\" WITHOUT WARRANTY OF ANY KIND, INCLUDING THE IMPLIED WARRANTIES OF MERCHANTABILITY AND FITNESS FOR A PARTICULAR PURPOSE. CUSTOMERS ARE RESPONSIBLE FOR ASSESSING THE IMPACT OF ANY ACTUAL OR POTENTIAL SECURITY VULNERABILITY.\n",
      "Document Location\n",
      "Worldwide\n",
      "Document Information\n",
      "Modified date:\n",
      "15 December 2021\n",
      "UID\n",
      "ibm16525554\n"
     ]
    }
   ],
   "source": [
    "trafilatura_downloaded = fetch_url(url)\n",
    "if trafilatura_downloaded is not None:\n",
    "    trafilatura_result = extract(trafilatura_downloaded)\n",
    "    print(trafilatura_result)"
   ],
   "metadata": {
    "collapsed": false,
    "pycharm": {
     "name": "#%%\n"
    }
   }
  }
 ],
 "metadata": {
  "kernelspec": {
   "display_name": "Python 3",
   "language": "python",
   "name": "python3"
  },
  "language_info": {
   "codemirror_mode": {
    "name": "ipython",
    "version": 2
   },
   "file_extension": ".py",
   "mimetype": "text/x-python",
   "name": "python",
   "nbconvert_exporter": "python",
   "pygments_lexer": "ipython2",
   "version": "2.7.6"
  }
 },
 "nbformat": 4,
 "nbformat_minor": 0
}