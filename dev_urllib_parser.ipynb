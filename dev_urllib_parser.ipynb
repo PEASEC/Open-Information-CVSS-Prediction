{
 "cells": [
  {
   "cell_type": "code",
   "execution_count": 1,
   "outputs": [],
   "source": [
    "import urllib.robotparser\n",
    "from dataclasses import dataclass"
   ],
   "metadata": {
    "collapsed": false,
    "pycharm": {
     "name": "#%%\n"
    }
   }
  },
  {
   "cell_type": "code",
   "execution_count": 2,
   "outputs": [],
   "source": [
    "@dataclass\n",
    "class RobotsAndTestUrl:\n",
    "    robots_url: str\n",
    "    test_url: str\n",
    "urls = [\n",
    "    RobotsAndTestUrl(robots_url='https://www.intel.com/robots.txt', test_url='https://www.intel.com/content/www/us/en/security-center/advisory/intel-sa-00477.html'),\n",
    "    RobotsAndTestUrl(robots_url='https://www.cisco.com/robots.txt', test_url='https://tools.cisco.com/security/center/content/CiscoSecurityAdvisory/cisco-sa-cssm-multici-pgG5WM5A'),\n",
    "    RobotsAndTestUrl(robots_url='https://www.zerodayinitiative.com/robots.txt', test_url='https://www.zerodayinitiative.com/advisories/ZDI-21-493/'),\n",
    "    RobotsAndTestUrl(robots_url='https://www.qualcomm.com/robots.txt', test_url='https://www.qualcomm.com/company/product-security/bulletins/august-2021-bulletin'),\n",
    "    RobotsAndTestUrl(robots_url='https://www.ibm.com/robots.txt', test_url='https://www.ibm.com/support/pages/node/6457739'),\n",
    "    RobotsAndTestUrl(robots_url='https://talosintelligence.com/robots.txt', test_url='https://talosintelligence.com/vulnerability_reports/TALOS-2021-1255'),\n",
    "    RobotsAndTestUrl(robots_url='https://support.f5.com/robots.txt', test_url='https://support.f5.com/csp/article/K09121542')\n",
    "]"
   ],
   "metadata": {
    "collapsed": false,
    "pycharm": {
     "name": "#%%\n"
    }
   }
  },
  {
   "cell_type": "code",
   "execution_count": 5,
   "outputs": [
    {
     "name": "stdout",
     "output_type": "stream",
     "text": [
      "----------------------------------\n",
      "https://www.intel.com/robots.txt:\n",
      "Allowed to read Test Url: True\n",
      "No Request Rate set\n",
      "Crawl Delay: None\n",
      "----------------------------------\n",
      "https://www.cisco.com/robots.txt:\n",
      "Allowed to read Test Url: True\n",
      "No Request Rate set\n",
      "Crawl Delay: None\n",
      "----------------------------------\n",
      "https://www.zerodayinitiative.com/robots.txt:\n",
      "Allowed to read Test Url: True\n",
      "No Request Rate set\n",
      "Crawl Delay: None\n",
      "----------------------------------\n",
      "https://www.qualcomm.com/robots.txt:\n",
      "Allowed to read Test Url: False\n",
      "No Request Rate set\n",
      "Crawl Delay: None\n",
      "----------------------------------\n",
      "https://www.ibm.com/robots.txt:\n",
      "Allowed to read Test Url: False\n",
      "No Request Rate set\n",
      "Crawl Delay: None\n",
      "----------------------------------\n",
      "https://talosintelligence.com/robots.txt:\n",
      "Allowed to read Test Url: False\n",
      "No Request Rate set\n",
      "Crawl Delay: None\n",
      "----------------------------------\n",
      "https://support.f5.com/robots.txt:\n",
      "Allowed to read Test Url: True\n",
      "No Request Rate set\n",
      "Crawl Delay: None\n"
     ]
    }
   ],
   "source": [
    "for t in urls:\n",
    "    print(f\"----------------------------------\")\n",
    "    rp = urllib.robotparser.RobotFileParser()\n",
    "    print(f\"{t.robots_url}:\")\n",
    "    rp.set_url(t.robots_url)\n",
    "    rp.read()\n",
    "    print(f\"Allowed to read Test Url: {rp.can_fetch('*', t.test_url)}\")\n",
    "    rrate = rp.request_rate('*')\n",
    "    if rrate:\n",
    "        print(f\"Request rate: {rrate.requests} requests, {rrate.seconds} s\")\n",
    "    else:\n",
    "        print(\"No Request Rate set\")\n",
    "    print(f\"Crawl Delay: {rp.crawl_delay('*')}\")"
   ],
   "metadata": {
    "collapsed": false,
    "pycharm": {
     "name": "#%%\n"
    }
   }
  }
 ],
 "metadata": {
  "kernelspec": {
   "display_name": "Python 3",
   "language": "python",
   "name": "python3"
  },
  "language_info": {
   "codemirror_mode": {
    "name": "ipython",
    "version": 2
   },
   "file_extension": ".py",
   "mimetype": "text/x-python",
   "name": "python",
   "nbconvert_exporter": "python",
   "pygments_lexer": "ipython2",
   "version": "2.7.6"
  }
 },
 "nbformat": 4,
 "nbformat_minor": 0
}