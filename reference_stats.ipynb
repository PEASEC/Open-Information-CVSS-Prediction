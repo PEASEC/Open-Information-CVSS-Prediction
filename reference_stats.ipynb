{
 "cells": [
  {
   "cell_type": "markdown",
   "source": [
    "# Analyze the Descriptions and scraped texts"
   ],
   "metadata": {
    "collapsed": false
   }
  },
  {
   "cell_type": "code",
   "execution_count": 1,
   "metadata": {
    "collapsed": true
   },
   "outputs": [],
   "source": [
    "from typing import List\n",
    "\n",
    "import pandas as pd\n",
    "from pandas import DataFrame\n",
    "from pymongo import MongoClient\n",
    "import numpy as np\n",
    "import matplotlib.pyplot as plt\n",
    "import seaborn as sns\n",
    "from matplotlib.pyplot import figure\n",
    "\n",
    "sns.set_style(\"white\")\n",
    "\n",
    "mongo_client = MongoClient(\"127.0.0.1\")\n",
    "\n",
    "mongo_db = mongo_client[\"nvd\"]\n",
    "mongo_collection = mongo_db[\"nvd_all\"]"
   ]
  },
  {
   "cell_type": "markdown",
   "source": [],
   "metadata": {
    "collapsed": false
   }
  },
  {
   "cell_type": "markdown",
   "source": [
    "## Length of descriptions"
   ],
   "metadata": {
    "collapsed": false
   }
  },
  {
   "cell_type": "code",
   "execution_count": 2,
   "outputs": [
    {
     "data": {
      "text/plain": "[163, 226, 205, 230, 217, 224, 221, 230, 230, 201]"
     },
     "execution_count": 2,
     "metadata": {},
     "output_type": "execute_result"
    }
   ],
   "source": [
    "lengths = []\n",
    "for doc in mongo_collection.aggregate([\n",
    "    {\n",
    "\n",
    "        '$unwind': {\n",
    "            'path': '$description'\n",
    "        }\n",
    "    },\n",
    "    {\n",
    "        '$match': {\n",
    "            'cvssv3': { \"$nin\": [ 'None', \"\" ] }\n",
    "        }\n",
    "    },\n",
    "    {\n",
    "        '$project': {\n",
    "            'description': 1\n",
    "        }\n",
    "    }\n",
    "]):\n",
    "    lengths.append(len(doc['description']))\n",
    "\n",
    "lengths[:10]"
   ],
   "metadata": {
    "collapsed": false,
    "pycharm": {
     "name": "#%%\n"
    }
   }
  },
  {
   "cell_type": "code",
   "execution_count": 3,
   "outputs": [
    {
     "name": "stdout",
     "output_type": "stream",
     "text": [
      "NUM: 88979\n",
      "AVG: 310.150574854741\n",
      "MEDIAN: 249.0\n",
      "MIN: 23\n",
      "MAX: 3835\n",
      "STD: 225.19999392252103\n",
      "SUM: 27596888\n"
     ]
    }
   ],
   "source": [
    "print(f\"NUM: {len(lengths)}\")\n",
    "print(f\"AVG: {np.average(lengths)}\")\n",
    "print(f\"MEDIAN: {np.median(lengths)}\")\n",
    "print(f\"MIN: {np.min(lengths)}\")\n",
    "print(f\"MAX: {np.max(lengths)}\")\n",
    "print(f\"STD: {np.std(lengths)}\")\n",
    "print(f\"SUM: {np.sum(lengths)}\")"
   ],
   "metadata": {
    "collapsed": false,
    "pycharm": {
     "name": "#%%\n"
    }
   }
  },
  {
   "cell_type": "code",
   "execution_count": 4,
   "outputs": [
    {
     "name": "stdout",
     "output_type": "stream",
     "text": [
      "50th percentile: 249.0\n",
      "75th percentile: 361.0\n",
      "90th percentile: 580.0\n",
      "95th percentile: 746.0\n",
      "99th percentile: 1118.0\n"
     ]
    }
   ],
   "source": [
    "print(f\"50th percentile: {np.percentile(lengths, 50)}\")\n",
    "print(f\"75th percentile: {np.percentile(lengths, 75)}\")\n",
    "print(f\"90th percentile: {np.percentile(lengths, 90)}\")\n",
    "print(f\"95th percentile: {np.percentile(lengths, 95)}\")\n",
    "print(f\"99th percentile: {np.percentile(lengths, 99)}\")"
   ],
   "metadata": {
    "collapsed": false,
    "pycharm": {
     "name": "#%%\n"
    }
   }
  },
  {
   "cell_type": "code",
   "execution_count": 7,
   "outputs": [
    {
     "data": {
      "text/plain": "<Figure size 800x560 with 1 Axes>",
      "image/png": "[encoded data removed]"
     },
     "metadata": {},
     "output_type": "display_data"
    }
   ],
   "source": [
    "sns.set_style(\"ticks\")\n",
    "plt.figure(figsize=(10,7), dpi= 80)\n",
    "# sns.set(rc={'axes.facecolor':'white', 'figure.facecolor':'white'})\n",
    "ax = sns.histplot(lengths, bins=400, color='cornflowerblue')\n",
    "ax.set_xlim(0, 1200)\n",
    "plt.xlabel('Anzahl der Zeichen in der Beschreibung', fontsize=14)\n",
    "plt.ylabel('Anzahl der Referenzen', fontsize=14)\n",
    "ax.axvline(x=np.average(lengths), color='red', linestyle='--', label='Durchschnitt')\n",
    "ax.axvline(x=np.median(lengths), color='green', linestyle='--', label='Median')\n",
    "ax.legend()\n",
    "plt.savefig('../assets/nvd_reference_length_dist.png')\n",
    "plt.show()"
   ],
   "metadata": {
    "collapsed": false,
    "pycharm": {
     "name": "#%%\n"
    }
   }
  },
  {
   "cell_type": "markdown",
   "source": [
    "## Length of scraped references"
   ],
   "metadata": {
    "collapsed": false
   }
  },
  {
   "cell_type": "code",
   "execution_count": 8,
   "outputs": [
    {
     "data": {
      "text/plain": "[444, 500, 479, 494, 481, 488, 485, 494, 494, 385]"
     },
     "execution_count": 8,
     "metadata": {},
     "output_type": "execute_result"
    }
   ],
   "source": [
    "scraped_lengths = []\n",
    "for doc in mongo_collection.aggregate([\n",
    "    {\n",
    "        '$unwind': {\n",
    "            'path': '$reference_data'\n",
    "        }\n",
    "    }, {\n",
    "        '$replaceRoot': {\n",
    "            'newRoot': {\n",
    "                '$mergeObjects': [\n",
    "                    '$$ROOT', '$reference_data'\n",
    "                ]\n",
    "            }\n",
    "        }\n",
    "    }, {\n",
    "        '$match': {\n",
    "            'text_selenium': {\n",
    "                '$exists': True\n",
    "            }\n",
    "        }\n",
    "    }, {\n",
    "        '$match': {\n",
    "            'cvssv3': { \"$nin\": [ 'None', \"\" ] }\n",
    "        }\n",
    "    }, {\n",
    "        '$project': {\n",
    "            'text_selenium': 1\n",
    "        }\n",
    "    }\n",
    "]):\n",
    "    scraped_lengths.append(len(doc['text_selenium']))\n",
    "\n",
    "scraped_lengths[:10]"
   ],
   "metadata": {
    "collapsed": false,
    "pycharm": {
     "name": "#%%\n"
    }
   }
  },
  {
   "cell_type": "code",
   "execution_count": 9,
   "outputs": [
    {
     "name": "stdout",
     "output_type": "stream",
     "text": [
      "NUM: 12755\n",
      "AVG: 817.1232457859663\n",
      "MEDIAN: 532.0\n",
      "MIN: 20\n",
      "MAX: 32206\n",
      "STD: 1517.4523935014008\n",
      "SUM: 10422407\n"
     ]
    }
   ],
   "source": [
    "print(f\"NUM: {len(scraped_lengths)}\")\n",
    "print(f\"AVG: {np.average(scraped_lengths)}\")\n",
    "print(f\"MEDIAN: {np.median(scraped_lengths)}\")\n",
    "print(f\"MIN: {np.min(scraped_lengths)}\")\n",
    "print(f\"MAX: {np.max(scraped_lengths)}\")\n",
    "print(f\"STD: {np.std(scraped_lengths)}\")\n",
    "print(f\"SUM: {np.sum(scraped_lengths)}\")"
   ],
   "metadata": {
    "collapsed": false,
    "pycharm": {
     "name": "#%%\n"
    }
   }
  },
  {
   "cell_type": "code",
   "execution_count": 10,
   "outputs": [
    {
     "name": "stdout",
     "output_type": "stream",
     "text": [
      "50th percentile: 532.0\n",
      "75th percentile: 728.0\n",
      "90th percentile: 1499.0\n",
      "95th percentile: 2906.2999999999993\n",
      "99th percentile: 5632.859999999964\n"
     ]
    }
   ],
   "source": [
    "print(f\"50th percentile: {np.percentile(scraped_lengths, 50)}\")\n",
    "print(f\"75th percentile: {np.percentile(scraped_lengths, 75)}\")\n",
    "print(f\"90th percentile: {np.percentile(scraped_lengths, 90)}\")\n",
    "print(f\"95th percentile: {np.percentile(scraped_lengths, 95)}\")\n",
    "print(f\"99th percentile: {np.percentile(scraped_lengths, 99)}\")"
   ],
   "metadata": {
    "collapsed": false,
    "pycharm": {
     "name": "#%%\n"
    }
   }
  },
  {
   "cell_type": "code",
   "execution_count": 11,
   "outputs": [
    {
     "data": {
      "text/plain": "<Figure size 800x560 with 1 Axes>",
      "image/png": "[encoded data removed]"
     },
     "metadata": {},
     "output_type": "display_data"
    }
   ],
   "source": [
    "sns.set_style(\"ticks\")\n",
    "plt.figure(figsize=(10,7), dpi= 80)\n",
    "# sns.set(rc={'axes.facecolor':'white', 'figure.facecolor':'white'})\n",
    "ax = sns.histplot(scraped_lengths, bins=400, color='cornflowerblue')\n",
    "ax.set_xlim(0, 4000)\n",
    "plt.xlabel('Anzahl der Zeichen', fontsize=14)\n",
    "plt.ylabel('Anzahl der Referenzen', fontsize=14)\n",
    "ax.axvline(x=np.average(scraped_lengths), color='red', linestyle='--', label='Durchschnitt')\n",
    "ax.axvline(x=np.median(scraped_lengths), color='green', linestyle='--', label='Median')\n",
    "ax.legend()\n",
    "plt.savefig('../assets/scraped_text_length_dist.png')\n",
    "plt.show()"
   ],
   "metadata": {
    "collapsed": false,
    "pycharm": {
     "name": "#%%\n"
    }
   }
  },
  {
   "cell_type": "markdown",
   "source": [
    "## Number of references per vulnerability"
   ],
   "metadata": {
    "collapsed": false
   }
  },
  {
   "cell_type": "code",
   "execution_count": 13,
   "outputs": [
    {
     "data": {
      "text/plain": "[1, 5, 2, 2, 2, 2, 2, 2, 2, 2]"
     },
     "execution_count": 13,
     "metadata": {},
     "output_type": "execute_result"
    }
   ],
   "source": [
    "ref_counts = []\n",
    "for ref_count in mongo_collection.aggregate([\n",
    "    {\n",
    "        '$match': {\n",
    "            'cvssv3': { \"$nin\": [ 'None', \"\" ] }\n",
    "        }\n",
    "    },\n",
    "    {\n",
    "        '$project': {\n",
    "            'count': {\n",
    "                '$size': '$reference_data'\n",
    "            }\n",
    "        }\n",
    "    }\n",
    "]):\n",
    "    ref_counts.append(ref_count['count'])\n",
    "ref_counts[:10]"
   ],
   "metadata": {
    "collapsed": false,
    "pycharm": {
     "name": "#%%\n"
    }
   }
  },
  {
   "cell_type": "code",
   "execution_count": 14,
   "outputs": [
    {
     "name": "stdout",
     "output_type": "stream",
     "text": [
      "NUM: 88979\n",
      "AVG: 2.8263410467638432\n",
      "MEDIAN: 2.0\n",
      "MIN: 0(1)\n",
      "MAX: 147(1)\n",
      "STD: 3.6174536752623383\n",
      "SUM: 251485\n"
     ]
    }
   ],
   "source": [
    "print(f\"NUM: {len(ref_counts)}\")\n",
    "print(f\"AVG: {np.average(ref_counts)}\")\n",
    "print(f\"MEDIAN: {np.median(ref_counts)}\")\n",
    "print(f\"MIN: {np.min(ref_counts)}({ref_counts.count(np.min(ref_counts))})\")\n",
    "print(f\"MAX: {np.max(ref_counts)}({ref_counts.count(np.max(ref_counts))})\")\n",
    "print(f\"STD: {np.std(ref_counts)}\")\n",
    "print(f\"SUM: {np.sum(ref_counts)}\")"
   ],
   "metadata": {
    "collapsed": false,
    "pycharm": {
     "name": "#%%\n"
    }
   }
  },
  {
   "cell_type": "code",
   "execution_count": 15,
   "outputs": [
    {
     "name": "stdout",
     "output_type": "stream",
     "text": [
      "60\n"
     ]
    }
   ],
   "source": [
    "print(len([r for r in ref_counts if r >= 50]))"
   ],
   "metadata": {
    "collapsed": false,
    "pycharm": {
     "name": "#%%\n"
    }
   }
  },
  {
   "cell_type": "code",
   "execution_count": 16,
   "outputs": [
    {
     "name": "stdout",
     "output_type": "stream",
     "text": [
      "50th percentile: 2.0\n",
      "75th percentile: 3.0\n",
      "90th percentile: 6.0\n",
      "95th percentile: 8.0\n",
      "99th percentile: 17.0\n"
     ]
    }
   ],
   "source": [
    "print(f\"50th percentile: {np.percentile(ref_counts, 50)}\")\n",
    "print(f\"75th percentile: {np.percentile(ref_counts, 75)}\")\n",
    "print(f\"90th percentile: {np.percentile(ref_counts, 90)}\")\n",
    "print(f\"95th percentile: {np.percentile(ref_counts, 95)}\")\n",
    "print(f\"99th percentile: {np.percentile(ref_counts, 99)}\")"
   ],
   "metadata": {
    "collapsed": false,
    "pycharm": {
     "name": "#%%\n"
    }
   }
  },
  {
   "cell_type": "code",
   "execution_count": 18,
   "outputs": [
    {
     "data": {
      "text/plain": "<Figure size 800x560 with 1 Axes>",
      "image/png": "[encoded data removed]"
     },
     "metadata": {},
     "output_type": "display_data"
    }
   ],
   "source": [
    "sns.set_style(\"ticks\")\n",
    "plt.figure(figsize=(10,7), dpi= 80)\n",
    "# sns.set(rc={'axes.facecolor':'white', 'figure.facecolor':'white'})\n",
    "filtered = [i for i in ref_counts if i <= 30]\n",
    "ax = sns.histplot(filtered, color='fuchsia', fill=True, binwidth=1, bins=60, )\n",
    "# ax.set_xlim(0, 20)\n",
    "plt.xlabel('Anzahl an Referenzen je Schwachstelle', fontsize=14)\n",
    "plt.ylabel('Anzahl', fontsize=14)\n",
    "plt.savefig('../assets/num_of_refs_dist.png')\n",
    "plt.show()"
   ],
   "metadata": {
    "collapsed": false,
    "pycharm": {
     "name": "#%%\n"
    }
   }
  }
 ],
 "metadata": {
  "kernelspec": {
   "display_name": "Python 3",
   "language": "python",
   "name": "python3"
  },
  "language_info": {
   "codemirror_mode": {
    "name": "ipython",
    "version": 2
   },
   "file_extension": ".py",
   "mimetype": "text/x-python",
   "name": "python",
   "nbconvert_exporter": "python",
   "pygments_lexer": "ipython2",
   "version": "2.7.6"
  }
 },
 "nbformat": 4,
 "nbformat_minor": 0
}