{
 "cells": [
  {
   "cell_type": "markdown",
   "metadata": {
    "pycharm": {
     "name": "#%% md\n"
    }
   },
   "source": [
    "# Create the full dataset\n",
    "* Get raw data from MongoDB\n",
    "* Save as csv"
   ]
  },
  {
   "cell_type": "code",
   "execution_count": 1,
   "metadata": {
    "pycharm": {
     "name": "#%%\n"
    }
   },
   "outputs": [],
   "source": [
    "from typing import List\n",
    "import pandas as pd\n",
    "from pymongo import MongoClient\n",
    "import seaborn as sns\n",
    "\n",
    "sns.set_style(\"white\")\n",
    "\n",
    "mongo_client = MongoClient(\"127.0.0.1\")\n",
    "\n",
    "mongo_db = mongo_client[\"nvd\"]\n",
    "mongo_collection = mongo_db[\"nvd_all\"]"
   ]
  },
  {
   "cell_type": "code",
   "execution_count": 2,
   "metadata": {
    "pycharm": {
     "name": "#%%\n"
    }
   },
   "outputs": [],
   "source": [
    "data_descriptions: List = list(mongo_collection.aggregate([\n",
    "    {\n",
    "        '$match': {\n",
    "            'cvssv3': {\n",
    "                '$nin': [\n",
    "                    'None', ''\n",
    "                ]\n",
    "            }\n",
    "        }\n",
    "    }, {\n",
    "        '$unwind': {\n",
    "            'path': '$description'\n",
    "        }\n",
    "    }, {\n",
    "        '$project': {\n",
    "            'year': 0,\n",
    "            'reference_data': 0,\n",
    "            'cwe': 0,\n",
    "            'cvssv2': 0,\n",
    "            'cpe': 0,\n",
    "            'references': 0\n",
    "        }\n",
    "    }, {\n",
    "        '$project': {\n",
    "            'text': '$description',\n",
    "            'cvssv3': 1\n",
    "        }\n",
    "    }\n",
    "]))\n",
    "data_references: List = list(mongo_collection.aggregate([\n",
    "    {\n",
    "        '$match': {\n",
    "            'cvssv3': {\n",
    "                '$nin': [\n",
    "                    'None', ''\n",
    "                ]\n",
    "            }\n",
    "        }\n",
    "    }, {\n",
    "        '$unwind': {\n",
    "            'path': '$reference_data'\n",
    "        }\n",
    "    }, {\n",
    "        '$replaceRoot': {\n",
    "            'newRoot': {\n",
    "                '$mergeObjects': [\n",
    "                    '$$ROOT', '$reference_data'\n",
    "                ]\n",
    "            }\n",
    "        }\n",
    "    }, {\n",
    "        '$match': {\n",
    "            'text_selenium': {\n",
    "                '$exists': 1\n",
    "            }\n",
    "        }\n",
    "    }, {\n",
    "        '$project': {\n",
    "            'year': 0,\n",
    "            'reference_data': 0,\n",
    "            'cwe': 0,\n",
    "            'cvssv2': 0,\n",
    "            'cpe': 0,\n",
    "            'references': 0,\n",
    "            'description': 0,\n",
    "            'url': 0,\n",
    "            'name': 0,\n",
    "            'refsource': 0,\n",
    "            'scraped_selenium': 0,\n",
    "            'tags': 0\n",
    "        }\n",
    "    }, {\n",
    "        '$project': {\n",
    "            'text': '$text_selenium',\n",
    "            'cvssv3': 1\n",
    "        }\n",
    "    }\n",
    "]))"
   ]
  },
  {
   "cell_type": "code",
   "execution_count": 3,
   "outputs": [
    {
     "data": {
      "text/plain": "5641"
     },
     "execution_count": 3,
     "metadata": {},
     "output_type": "execute_result"
    }
   ],
   "source": [
    "len(data_descriptions)"
   ],
   "metadata": {
    "collapsed": false,
    "pycharm": {
     "name": "#%%\n"
    }
   }
  },
  {
   "cell_type": "code",
   "execution_count": 4,
   "outputs": [
    {
     "data": {
      "text/plain": "0"
     },
     "execution_count": 4,
     "metadata": {},
     "output_type": "execute_result"
    }
   ],
   "source": [
    "len(data_references)"
   ],
   "metadata": {
    "collapsed": false,
    "pycharm": {
     "name": "#%%\n"
    }
   }
  },
  {
   "cell_type": "code",
   "execution_count": 5,
   "metadata": {
    "pycharm": {
     "name": "#%%\n"
    }
   },
   "outputs": [
    {
     "data": {
      "text/plain": "              id                                               text av ac pr  \\\n0  CVE-2022-0001  Non-transparent sharing of branch predictor se...  L  L  L   \n1  CVE-2022-0002  Non-transparent sharing of branch predictor wi...  L  L  L   \n2  CVE-2022-0011  PAN-OS software provides options to exclude sp...  N  L  L   \n3  CVE-2022-0012  An improper link resolution before file access...  L  L  L   \n4  CVE-2022-0013  A file information exposure vulnerability exis...  L  L  L   \n\n  ui  s  c  i  a  score  \n0  N  C  H  N  N    6.5  \n1  N  C  H  N  N    6.5  \n2  N  U  N  H  N    6.5  \n3  N  U  N  H  H    7.1  \n4  N  U  H  N  N    5.5  ",
      "text/html": "<div>\n<style scoped>\n    .dataframe tbody tr th:only-of-type {\n        vertical-align: middle;\n    }\n\n    .dataframe tbody tr th {\n        vertical-align: top;\n    }\n\n    .dataframe thead th {\n        text-align: right;\n    }\n</style>\n<table border=\"1\" class=\"dataframe\">\n  <thead>\n    <tr style=\"text-align: right;\">\n      <th></th>\n      <th>id</th>\n      <th>text</th>\n      <th>av</th>\n      <th>ac</th>\n      <th>pr</th>\n      <th>ui</th>\n      <th>s</th>\n      <th>c</th>\n      <th>i</th>\n      <th>a</th>\n      <th>score</th>\n    </tr>\n  </thead>\n  <tbody>\n    <tr>\n      <th>0</th>\n      <td>CVE-2022-0001</td>\n      <td>Non-transparent sharing of branch predictor se...</td>\n      <td>L</td>\n      <td>L</td>\n      <td>L</td>\n      <td>N</td>\n      <td>C</td>\n      <td>H</td>\n      <td>N</td>\n      <td>N</td>\n      <td>6.5</td>\n    </tr>\n    <tr>\n      <th>1</th>\n      <td>CVE-2022-0002</td>\n      <td>Non-transparent sharing of branch predictor wi...</td>\n      <td>L</td>\n      <td>L</td>\n      <td>L</td>\n      <td>N</td>\n      <td>C</td>\n      <td>H</td>\n      <td>N</td>\n      <td>N</td>\n      <td>6.5</td>\n    </tr>\n    <tr>\n      <th>2</th>\n      <td>CVE-2022-0011</td>\n      <td>PAN-OS software provides options to exclude sp...</td>\n      <td>N</td>\n      <td>L</td>\n      <td>L</td>\n      <td>N</td>\n      <td>U</td>\n      <td>N</td>\n      <td>H</td>\n      <td>N</td>\n      <td>6.5</td>\n    </tr>\n    <tr>\n      <th>3</th>\n      <td>CVE-2022-0012</td>\n      <td>An improper link resolution before file access...</td>\n      <td>L</td>\n      <td>L</td>\n      <td>L</td>\n      <td>N</td>\n      <td>U</td>\n      <td>N</td>\n      <td>H</td>\n      <td>H</td>\n      <td>7.1</td>\n    </tr>\n    <tr>\n      <th>4</th>\n      <td>CVE-2022-0013</td>\n      <td>A file information exposure vulnerability exis...</td>\n      <td>L</td>\n      <td>L</td>\n      <td>L</td>\n      <td>N</td>\n      <td>U</td>\n      <td>H</td>\n      <td>N</td>\n      <td>N</td>\n      <td>5.5</td>\n    </tr>\n  </tbody>\n</table>\n</div>"
     },
     "execution_count": 5,
     "metadata": {},
     "output_type": "execute_result"
    }
   ],
   "source": [
    "rows = []\n",
    "data = data_descriptions  + data_references\n",
    "for row in data:\n",
    "    id = row['_id']\n",
    "    text = row['text']\n",
    "    cvss = row['cvssv3']\n",
    "    cvss_arr: List[str] = cvss.split('/')\n",
    "    av: str = cvss_arr[1].replace('AV:', '')\n",
    "    ac: str = cvss_arr[2].replace('AC:', '')\n",
    "    pr: str = cvss_arr[3].replace('PR:', '')\n",
    "    ui: str = cvss_arr[4].replace('UI:', '')\n",
    "    s: str = cvss_arr[5].replace('S:', '')\n",
    "    c: str = cvss_arr[6].replace('C:', '')\n",
    "    i: str = cvss_arr[7].replace('I:', '')\n",
    "    a: str = cvss_arr[8].replace('A:', '')\n",
    "    score: float = float(cvss_arr[9].replace('Score:', ''))\n",
    "    rows.append([id, text, av, ac, pr, ui, s, c, i, a, score])\n",
    "\n",
    "df = pd.DataFrame(rows, columns=['id', 'text', 'av', 'ac', 'pr', 'ui', 's', 'c', 'i', 'a', 'score'])\n",
    "df.to_csv('dataset/full_dataset_combined.csv', index=False)\n",
    "df.head()"
   ]
  },
  {
   "cell_type": "code",
   "execution_count": 6,
   "metadata": {
    "pycharm": {
     "name": "#%%\n"
    }
   },
   "outputs": [
    {
     "data": {
      "text/plain": "(5641, 11)"
     },
     "execution_count": 6,
     "metadata": {},
     "output_type": "execute_result"
    }
   ],
   "source": [
    "df.shape"
   ]
  }
 ],
 "metadata": {
  "kernelspec": {
   "display_name": "Python 3 (ipykernel)",
   "language": "python",
   "name": "python3"
  },
  "language_info": {
   "codemirror_mode": {
    "name": "ipython",
    "version": 3
   },
   "file_extension": ".py",
   "mimetype": "text/x-python",
   "name": "python",
   "nbconvert_exporter": "python",
   "pygments_lexer": "ipython3",
   "version": "3.10.1"
  }
 },
 "nbformat": 4,
 "nbformat_minor": 1
}