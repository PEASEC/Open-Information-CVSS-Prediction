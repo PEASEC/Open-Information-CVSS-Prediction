{
 "cells": [
  {
   "cell_type": "markdown",
   "source": [
    "## All in one Notebook to create a tokenized dataset from the 2022 descriptions only"
   ],
   "metadata": {
    "collapsed": false
   }
  },
  {
   "cell_type": "code",
   "execution_count": 16,
   "outputs": [],
   "source": [
    "from typing import List\n",
    "\n",
    "import pandas as pd\n",
    "import seaborn as sns\n",
    "from datasets import Dataset\n",
    "from pandas import DataFrame\n",
    "from pymongo import MongoClient\n",
    "from transformers import AutoTokenizer\n",
    "\n",
    "sns.set_style(\"white\")\n",
    "\n",
    "mongo_client = MongoClient(\"127.0.0.1\")\n",
    "\n",
    "mongo_db = mongo_client[\"nvd\"]\n",
    "mongo_collection = mongo_db[\"nvd_2022\"]"
   ],
   "metadata": {
    "collapsed": false,
    "pycharm": {
     "name": "#%%\n"
    }
   }
  },
  {
   "cell_type": "code",
   "execution_count": 17,
   "outputs": [],
   "source": [
    "data_descriptions: List = list(mongo_collection.aggregate([\n",
    "    {\n",
    "        '$match': {\n",
    "            'cvssv3': {\n",
    "                '$nin': [\n",
    "                    'None', ''\n",
    "                ]\n",
    "            }\n",
    "        }\n",
    "    }, {\n",
    "        '$unwind': {\n",
    "            'path': '$description'\n",
    "        }\n",
    "    }, {\n",
    "        '$project': {\n",
    "            'year': 0,\n",
    "            'reference_data': 0,\n",
    "            'cwe': 0,\n",
    "            'cvssv2': 0,\n",
    "            'cpe': 0,\n",
    "            'references': 0\n",
    "        }\n",
    "    }, {\n",
    "        '$project': {\n",
    "            'text': '$description',\n",
    "            'cvssv3': 1\n",
    "        }\n",
    "    }\n",
    "]))"
   ],
   "metadata": {
    "collapsed": false,
    "pycharm": {
     "name": "#%%\n"
    }
   }
  },
  {
   "cell_type": "code",
   "execution_count": 18,
   "outputs": [
    {
     "data": {
      "text/plain": "5641"
     },
     "execution_count": 18,
     "metadata": {},
     "output_type": "execute_result"
    }
   ],
   "source": [
    "len(data_descriptions)"
   ],
   "metadata": {
    "collapsed": false,
    "pycharm": {
     "name": "#%%\n"
    }
   }
  },
  {
   "cell_type": "code",
   "execution_count": 20,
   "outputs": [
    {
     "data": {
      "text/plain": "              id                                               text av ac pr  \\\n0  CVE-2022-0001  Non-transparent sharing of branch predictor se...  L  L  L   \n1  CVE-2022-0002  Non-transparent sharing of branch predictor wi...  L  L  L   \n2  CVE-2022-0011  PAN-OS software provides options to exclude sp...  N  L  L   \n3  CVE-2022-0012  An improper link resolution before file access...  L  L  L   \n4  CVE-2022-0013  A file information exposure vulnerability exis...  L  L  L   \n\n  ui  s  c  i  a  score  \n0  N  C  H  N  N    6.5  \n1  N  C  H  N  N    6.5  \n2  N  U  N  H  N    6.5  \n3  N  U  N  H  H    7.1  \n4  N  U  H  N  N    5.5  ",
      "text/html": "<div>\n<style scoped>\n    .dataframe tbody tr th:only-of-type {\n        vertical-align: middle;\n    }\n\n    .dataframe tbody tr th {\n        vertical-align: top;\n    }\n\n    .dataframe thead th {\n        text-align: right;\n    }\n</style>\n<table border=\"1\" class=\"dataframe\">\n  <thead>\n    <tr style=\"text-align: right;\">\n      <th></th>\n      <th>id</th>\n      <th>text</th>\n      <th>av</th>\n      <th>ac</th>\n      <th>pr</th>\n      <th>ui</th>\n      <th>s</th>\n      <th>c</th>\n      <th>i</th>\n      <th>a</th>\n      <th>score</th>\n    </tr>\n  </thead>\n  <tbody>\n    <tr>\n      <th>0</th>\n      <td>CVE-2022-0001</td>\n      <td>Non-transparent sharing of branch predictor se...</td>\n      <td>L</td>\n      <td>L</td>\n      <td>L</td>\n      <td>N</td>\n      <td>C</td>\n      <td>H</td>\n      <td>N</td>\n      <td>N</td>\n      <td>6.5</td>\n    </tr>\n    <tr>\n      <th>1</th>\n      <td>CVE-2022-0002</td>\n      <td>Non-transparent sharing of branch predictor wi...</td>\n      <td>L</td>\n      <td>L</td>\n      <td>L</td>\n      <td>N</td>\n      <td>C</td>\n      <td>H</td>\n      <td>N</td>\n      <td>N</td>\n      <td>6.5</td>\n    </tr>\n    <tr>\n      <th>2</th>\n      <td>CVE-2022-0011</td>\n      <td>PAN-OS software provides options to exclude sp...</td>\n      <td>N</td>\n      <td>L</td>\n      <td>L</td>\n      <td>N</td>\n      <td>U</td>\n      <td>N</td>\n      <td>H</td>\n      <td>N</td>\n      <td>6.5</td>\n    </tr>\n    <tr>\n      <th>3</th>\n      <td>CVE-2022-0012</td>\n      <td>An improper link resolution before file access...</td>\n      <td>L</td>\n      <td>L</td>\n      <td>L</td>\n      <td>N</td>\n      <td>U</td>\n      <td>N</td>\n      <td>H</td>\n      <td>H</td>\n      <td>7.1</td>\n    </tr>\n    <tr>\n      <th>4</th>\n      <td>CVE-2022-0013</td>\n      <td>A file information exposure vulnerability exis...</td>\n      <td>L</td>\n      <td>L</td>\n      <td>L</td>\n      <td>N</td>\n      <td>U</td>\n      <td>H</td>\n      <td>N</td>\n      <td>N</td>\n      <td>5.5</td>\n    </tr>\n  </tbody>\n</table>\n</div>"
     },
     "execution_count": 20,
     "metadata": {},
     "output_type": "execute_result"
    }
   ],
   "source": [
    "rows = []\n",
    "data = data_descriptions\n",
    "for row in data:\n",
    "    id = row['_id']\n",
    "    text = row['text']\n",
    "    cvss = row['cvssv3']\n",
    "    cvss_arr: List[str] = cvss.split('/')\n",
    "    av: str = cvss_arr[1].replace('AV:', '')\n",
    "    ac: str = cvss_arr[2].replace('AC:', '')\n",
    "    pr: str = cvss_arr[3].replace('PR:', '')\n",
    "    ui: str = cvss_arr[4].replace('UI:', '')\n",
    "    s: str = cvss_arr[5].replace('S:', '')\n",
    "    c: str = cvss_arr[6].replace('C:', '')\n",
    "    i: str = cvss_arr[7].replace('I:', '')\n",
    "    a: str = cvss_arr[8].replace('A:', '')\n",
    "    score: float = float(cvss_arr[9].replace('Score:', ''))\n",
    "    rows.append([id, text, av, ac, pr, ui, s, c, i, a, score])\n",
    "\n",
    "df = pd.DataFrame(rows, columns=['id', 'text', 'av', 'ac', 'pr', 'ui', 's', 'c', 'i', 'a', 'score'])\n",
    "df.to_csv('descriptions_2022.csv', index=False)\n",
    "df.head()"
   ],
   "metadata": {
    "collapsed": false,
    "pycharm": {
     "name": "#%%\n"
    }
   }
  },
  {
   "cell_type": "code",
   "execution_count": 21,
   "outputs": [
    {
     "data": {
      "text/plain": "'distilbert-base-uncased'"
     },
     "execution_count": 21,
     "metadata": {},
     "output_type": "execute_result"
    }
   ],
   "source": [
    "#model = 'prajjwal1/bert-medium'\n",
    "#model = 'prajjwal1/bert-small'\n",
    "model = 'distilbert-base-uncased'\n",
    "model_name = model.split('/')[-1]\n",
    "model_name"
   ],
   "metadata": {
    "collapsed": false,
    "pycharm": {
     "name": "#%%\n"
    }
   }
  },
  {
   "cell_type": "code",
   "execution_count": 22,
   "outputs": [
    {
     "name": "stdout",
     "output_type": "stream",
     "text": [
      "Dataset shape: (5641, 11)\n"
     ]
    },
    {
     "data": {
      "text/plain": "              id                                               text av ac pr  \\\n0  CVE-2022-0001  Non-transparent sharing of branch predictor se...  L  L  L   \n1  CVE-2022-0002  Non-transparent sharing of branch predictor wi...  L  L  L   \n2  CVE-2022-0011  PAN-OS software provides options to exclude sp...  N  L  L   \n3  CVE-2022-0012  An improper link resolution before file access...  L  L  L   \n4  CVE-2022-0013  A file information exposure vulnerability exis...  L  L  L   \n\n  ui  s  c  i  a  score  \n0  N  C  H  N  N    6.5  \n1  N  C  H  N  N    6.5  \n2  N  U  N  H  N    6.5  \n3  N  U  N  H  H    7.1  \n4  N  U  H  N  N    5.5  ",
      "text/html": "<div>\n<style scoped>\n    .dataframe tbody tr th:only-of-type {\n        vertical-align: middle;\n    }\n\n    .dataframe tbody tr th {\n        vertical-align: top;\n    }\n\n    .dataframe thead th {\n        text-align: right;\n    }\n</style>\n<table border=\"1\" class=\"dataframe\">\n  <thead>\n    <tr style=\"text-align: right;\">\n      <th></th>\n      <th>id</th>\n      <th>text</th>\n      <th>av</th>\n      <th>ac</th>\n      <th>pr</th>\n      <th>ui</th>\n      <th>s</th>\n      <th>c</th>\n      <th>i</th>\n      <th>a</th>\n      <th>score</th>\n    </tr>\n  </thead>\n  <tbody>\n    <tr>\n      <th>0</th>\n      <td>CVE-2022-0001</td>\n      <td>Non-transparent sharing of branch predictor se...</td>\n      <td>L</td>\n      <td>L</td>\n      <td>L</td>\n      <td>N</td>\n      <td>C</td>\n      <td>H</td>\n      <td>N</td>\n      <td>N</td>\n      <td>6.5</td>\n    </tr>\n    <tr>\n      <th>1</th>\n      <td>CVE-2022-0002</td>\n      <td>Non-transparent sharing of branch predictor wi...</td>\n      <td>L</td>\n      <td>L</td>\n      <td>L</td>\n      <td>N</td>\n      <td>C</td>\n      <td>H</td>\n      <td>N</td>\n      <td>N</td>\n      <td>6.5</td>\n    </tr>\n    <tr>\n      <th>2</th>\n      <td>CVE-2022-0011</td>\n      <td>PAN-OS software provides options to exclude sp...</td>\n      <td>N</td>\n      <td>L</td>\n      <td>L</td>\n      <td>N</td>\n      <td>U</td>\n      <td>N</td>\n      <td>H</td>\n      <td>N</td>\n      <td>6.5</td>\n    </tr>\n    <tr>\n      <th>3</th>\n      <td>CVE-2022-0012</td>\n      <td>An improper link resolution before file access...</td>\n      <td>L</td>\n      <td>L</td>\n      <td>L</td>\n      <td>N</td>\n      <td>U</td>\n      <td>N</td>\n      <td>H</td>\n      <td>H</td>\n      <td>7.1</td>\n    </tr>\n    <tr>\n      <th>4</th>\n      <td>CVE-2022-0013</td>\n      <td>A file information exposure vulnerability exis...</td>\n      <td>L</td>\n      <td>L</td>\n      <td>L</td>\n      <td>N</td>\n      <td>U</td>\n      <td>H</td>\n      <td>N</td>\n      <td>N</td>\n      <td>5.5</td>\n    </tr>\n  </tbody>\n</table>\n</div>"
     },
     "execution_count": 22,
     "metadata": {},
     "output_type": "execute_result"
    }
   ],
   "source": [
    "df: DataFrame = pd.read_csv('dataset/full_dataset_descriptions_2022.csv',)\n",
    "print(f'Dataset shape: {df.shape}')\n",
    "df.head()"
   ],
   "metadata": {
    "collapsed": false,
    "pycharm": {
     "name": "#%%\n"
    }
   }
  },
  {
   "cell_type": "code",
   "execution_count": 23,
   "outputs": [
    {
     "data": {
      "text/plain": "Index(['id', 'text', 'av', 'ac', 'pr', 'ui', 's', 'c', 'i', 'a', 'score'], dtype='object')"
     },
     "execution_count": 23,
     "metadata": {},
     "output_type": "execute_result"
    }
   ],
   "source": [
    "df.columns"
   ],
   "metadata": {
    "collapsed": false,
    "pycharm": {
     "name": "#%%\n"
    }
   }
  },
  {
   "cell_type": "code",
   "execution_count": 24,
   "outputs": [],
   "source": [
    "test_dataset = Dataset.from_pandas(df)"
   ],
   "metadata": {
    "collapsed": false,
    "pycharm": {
     "name": "#%%\n"
    }
   }
  },
  {
   "cell_type": "code",
   "execution_count": 25,
   "outputs": [
    {
     "data": {
      "text/plain": "  0%|          | 0/6 [00:00<?, ?ba/s]",
      "application/vnd.jupyter.widget-view+json": {
       "version_major": 2,
       "version_minor": 0,
       "model_id": "15805247472847c897c4fd5f98a003b5"
      }
     },
     "metadata": {},
     "output_type": "display_data"
    }
   ],
   "source": [
    "tokenizer = AutoTokenizer.from_pretrained(model)\n",
    "\n",
    "def tokenize_function(sample):\n",
    "    return tokenizer(sample[\"text\"], padding=\"max_length\", truncation=True, max_length=512)\n",
    "\n",
    "\n",
    "tokenized_test_set_2022 = test_dataset.map(tokenize_function, batched=True)"
   ],
   "metadata": {
    "collapsed": false,
    "pycharm": {
     "name": "#%%\n"
    }
   }
  },
  {
   "cell_type": "code",
   "execution_count": 26,
   "outputs": [
    {
     "data": {
      "text/plain": "Creating json from Arrow format:   0%|          | 0/1 [00:00<?, ?ba/s]",
      "application/vnd.jupyter.widget-view+json": {
       "version_major": 2,
       "version_minor": 0,
       "model_id": "eb8cb5c4127241988a47dfbd64b6e098"
      }
     },
     "metadata": {},
     "output_type": "display_data"
    },
    {
     "data": {
      "text/plain": "15325580"
     },
     "execution_count": 26,
     "metadata": {},
     "output_type": "execute_result"
    }
   ],
   "source": [
    "tokenized_test_set_2022.to_json(f'dataset/{model_name}/descriptions_2022.json')"
   ],
   "metadata": {
    "collapsed": false,
    "pycharm": {
     "name": "#%%\n"
    }
   }
  }
 ],
 "metadata": {
  "kernelspec": {
   "display_name": "Python 3 (ipykernel)",
   "language": "python",
   "name": "python3"
  },
  "language_info": {
   "codemirror_mode": {
    "name": "ipython",
    "version": 3
   },
   "file_extension": ".py",
   "mimetype": "text/x-python",
   "name": "python",
   "nbconvert_exporter": "python",
   "pygments_lexer": "ipython3",
   "version": "3.10.1"
  }
 },
 "nbformat": 4,
 "nbformat_minor": 1
}