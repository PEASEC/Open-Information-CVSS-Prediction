{
 "cells": [
  {
   "cell_type": "markdown",
   "source": [
    "# Tokenize and Split Dataset\n",
    "\n",
    "* Read full dataset from csv\n",
    "* Split into Test/Train\n",
    "* Tokenize\n",
    "* Save"
   ],
   "metadata": {
    "collapsed": false
   }
  },
  {
   "cell_type": "markdown",
   "source": [
    "### Setup"
   ],
   "metadata": {
    "collapsed": false
   }
  },
  {
   "cell_type": "code",
   "execution_count": 1,
   "outputs": [],
   "source": [
    "import pandas as pd\n",
    "from pandas import DataFrame\n",
    "from datasets import Dataset\n",
    "from transformers import AutoTokenizer"
   ],
   "metadata": {
    "collapsed": false,
    "pycharm": {
     "name": "#%%\n"
    }
   }
  },
  {
   "cell_type": "code",
   "execution_count": 2,
   "outputs": [
    {
     "data": {
      "text/plain": "'distilbert-base-uncased'"
     },
     "execution_count": 2,
     "metadata": {},
     "output_type": "execute_result"
    }
   ],
   "source": [
    "#model = 'prajjwal1/bert-medium'\n",
    "#model = 'prajjwal1/bert-small'\n",
    "model = 'distilbert-base-uncased'\n",
    "model_name = model.split('/')[-1]\n",
    "model_name"
   ],
   "metadata": {
    "collapsed": false,
    "pycharm": {
     "name": "#%%\n"
    }
   }
  },
  {
   "cell_type": "markdown",
   "source": [
    "### Read csv"
   ],
   "metadata": {
    "collapsed": false
   }
  },
  {
   "cell_type": "code",
   "execution_count": 3,
   "outputs": [
    {
     "name": "stdout",
     "output_type": "stream",
     "text": [
      "Dataset shape: (101734, 11)\n"
     ]
    },
    {
     "data": {
      "text/plain": "              id                                               text av ac pr  \\\n0  CVE-2021-0001  Observable timing discrepancy in Intel(R) IPP ...  L  H  L   \n1  CVE-2021-0002  Improper conditions check in some Intel(R) Eth...  L  L  L   \n2  CVE-2021-0003  Improper conditions check in some Intel(R) Eth...  L  L  L   \n3  CVE-2021-0004  Improper buffer restrictions in the firmware o...  L  L  H   \n4  CVE-2021-0005  Uncaught exception in firmware for Intel(R) Et...  L  L  H   \n\n  ui  s  c  i  a  score  \n0  N  U  H  N  N    4.7  \n1  N  U  H  N  H    7.1  \n2  N  U  H  N  N    5.5  \n3  N  U  N  N  H    4.4  \n4  N  U  N  N  H    4.4  ",
      "text/html": "<div>\n<style scoped>\n    .dataframe tbody tr th:only-of-type {\n        vertical-align: middle;\n    }\n\n    .dataframe tbody tr th {\n        vertical-align: top;\n    }\n\n    .dataframe thead th {\n        text-align: right;\n    }\n</style>\n<table border=\"1\" class=\"dataframe\">\n  <thead>\n    <tr style=\"text-align: right;\">\n      <th></th>\n      <th>id</th>\n      <th>text</th>\n      <th>av</th>\n      <th>ac</th>\n      <th>pr</th>\n      <th>ui</th>\n      <th>s</th>\n      <th>c</th>\n      <th>i</th>\n      <th>a</th>\n      <th>score</th>\n    </tr>\n  </thead>\n  <tbody>\n    <tr>\n      <th>0</th>\n      <td>CVE-2021-0001</td>\n      <td>Observable timing discrepancy in Intel(R) IPP ...</td>\n      <td>L</td>\n      <td>H</td>\n      <td>L</td>\n      <td>N</td>\n      <td>U</td>\n      <td>H</td>\n      <td>N</td>\n      <td>N</td>\n      <td>4.7</td>\n    </tr>\n    <tr>\n      <th>1</th>\n      <td>CVE-2021-0002</td>\n      <td>Improper conditions check in some Intel(R) Eth...</td>\n      <td>L</td>\n      <td>L</td>\n      <td>L</td>\n      <td>N</td>\n      <td>U</td>\n      <td>H</td>\n      <td>N</td>\n      <td>H</td>\n      <td>7.1</td>\n    </tr>\n    <tr>\n      <th>2</th>\n      <td>CVE-2021-0003</td>\n      <td>Improper conditions check in some Intel(R) Eth...</td>\n      <td>L</td>\n      <td>L</td>\n      <td>L</td>\n      <td>N</td>\n      <td>U</td>\n      <td>H</td>\n      <td>N</td>\n      <td>N</td>\n      <td>5.5</td>\n    </tr>\n    <tr>\n      <th>3</th>\n      <td>CVE-2021-0004</td>\n      <td>Improper buffer restrictions in the firmware o...</td>\n      <td>L</td>\n      <td>L</td>\n      <td>H</td>\n      <td>N</td>\n      <td>U</td>\n      <td>N</td>\n      <td>N</td>\n      <td>H</td>\n      <td>4.4</td>\n    </tr>\n    <tr>\n      <th>4</th>\n      <td>CVE-2021-0005</td>\n      <td>Uncaught exception in firmware for Intel(R) Et...</td>\n      <td>L</td>\n      <td>L</td>\n      <td>H</td>\n      <td>N</td>\n      <td>U</td>\n      <td>N</td>\n      <td>N</td>\n      <td>H</td>\n      <td>4.4</td>\n    </tr>\n  </tbody>\n</table>\n</div>"
     },
     "execution_count": 3,
     "metadata": {},
     "output_type": "execute_result"
    }
   ],
   "source": [
    "df: DataFrame = pd.read_csv('dataset/full_dataset_combined.csv')\n",
    "print(f'Dataset shape: {df.shape}')\n",
    "df.head()"
   ],
   "metadata": {
    "collapsed": false,
    "pycharm": {
     "name": "#%%\n"
    }
   }
  },
  {
   "cell_type": "code",
   "execution_count": 4,
   "outputs": [
    {
     "data": {
      "text/plain": "Index(['id', 'text', 'av', 'ac', 'pr', 'ui', 's', 'c', 'i', 'a', 'score'], dtype='object')"
     },
     "execution_count": 4,
     "metadata": {},
     "output_type": "execute_result"
    }
   ],
   "source": [
    "df.columns"
   ],
   "metadata": {
    "collapsed": false,
    "pycharm": {
     "name": "#%%\n"
    }
   }
  },
  {
   "cell_type": "code",
   "execution_count": 5,
   "outputs": [
    {
     "data": {
      "text/plain": "(101734, 11)"
     },
     "execution_count": 5,
     "metadata": {},
     "output_type": "execute_result"
    }
   ],
   "source": [
    "df.shape"
   ],
   "metadata": {
    "collapsed": false,
    "pycharm": {
     "name": "#%%\n"
    }
   }
  },
  {
   "cell_type": "markdown",
   "source": [
    "### Split"
   ],
   "metadata": {
    "collapsed": false
   }
  },
  {
   "cell_type": "code",
   "execution_count": 6,
   "outputs": [
    {
     "data": {
      "text/plain": "                   id                                               text av  \\\n0       CVE-2021-0001  Observable timing discrepancy in Intel(R) IPP ...  L   \n1       CVE-2021-0002  Improper conditions check in some Intel(R) Eth...  L   \n2       CVE-2021-0003  Improper conditions check in some Intel(R) Eth...  L   \n3       CVE-2021-0004  Improper buffer restrictions in the firmware o...  L   \n4       CVE-2021-0005  Uncaught exception in firmware for Intel(R) Et...  L   \n...               ...                                                ... ..   \n101729  CVE-2016-9989  IBM Jazz Foundation Reporting Service (JRS) is...  N   \n101730  CVE-2016-9991  IBM Sterling Order Management is vulnerable to...  N   \n101731  CVE-2016-9992  IBM Kenexa LCMS Premier on Cloud is vulnerable...  N   \n101732  CVE-2016-9993  IBM Kenexa LCMS Premier on Cloud is vulnerable...  N   \n101733  CVE-2016-9994  IBM Kenexa LCMS Premier on Cloud is vulnerable...  N   \n\n       ac pr ui  s  c  i  a  score  \n0       H  L  N  U  H  N  N    4.7  \n1       L  L  N  U  H  N  H    7.1  \n2       L  L  N  U  H  N  N    5.5  \n3       L  H  N  U  N  N  H    4.4  \n4       L  H  N  U  N  N  H    4.4  \n...    .. .. .. .. .. .. ..    ...  \n101729  L  L  R  C  L  L  N    5.4  \n101730  L  L  R  U  H  H  H    8.0  \n101731  L  L  N  U  H  L  N    7.1  \n101732  L  L  N  U  H  L  N    7.1  \n101733  L  L  N  U  H  L  N    7.1  \n\n[101400 rows x 11 columns]",
      "text/html": "<div>\n<style scoped>\n    .dataframe tbody tr th:only-of-type {\n        vertical-align: middle;\n    }\n\n    .dataframe tbody tr th {\n        vertical-align: top;\n    }\n\n    .dataframe thead th {\n        text-align: right;\n    }\n</style>\n<table border=\"1\" class=\"dataframe\">\n  <thead>\n    <tr style=\"text-align: right;\">\n      <th></th>\n      <th>id</th>\n      <th>text</th>\n      <th>av</th>\n      <th>ac</th>\n      <th>pr</th>\n      <th>ui</th>\n      <th>s</th>\n      <th>c</th>\n      <th>i</th>\n      <th>a</th>\n      <th>score</th>\n    </tr>\n  </thead>\n  <tbody>\n    <tr>\n      <th>0</th>\n      <td>CVE-2021-0001</td>\n      <td>Observable timing discrepancy in Intel(R) IPP ...</td>\n      <td>L</td>\n      <td>H</td>\n      <td>L</td>\n      <td>N</td>\n      <td>U</td>\n      <td>H</td>\n      <td>N</td>\n      <td>N</td>\n      <td>4.7</td>\n    </tr>\n    <tr>\n      <th>1</th>\n      <td>CVE-2021-0002</td>\n      <td>Improper conditions check in some Intel(R) Eth...</td>\n      <td>L</td>\n      <td>L</td>\n      <td>L</td>\n      <td>N</td>\n      <td>U</td>\n      <td>H</td>\n      <td>N</td>\n      <td>H</td>\n      <td>7.1</td>\n    </tr>\n    <tr>\n      <th>2</th>\n      <td>CVE-2021-0003</td>\n      <td>Improper conditions check in some Intel(R) Eth...</td>\n      <td>L</td>\n      <td>L</td>\n      <td>L</td>\n      <td>N</td>\n      <td>U</td>\n      <td>H</td>\n      <td>N</td>\n      <td>N</td>\n      <td>5.5</td>\n    </tr>\n    <tr>\n      <th>3</th>\n      <td>CVE-2021-0004</td>\n      <td>Improper buffer restrictions in the firmware o...</td>\n      <td>L</td>\n      <td>L</td>\n      <td>H</td>\n      <td>N</td>\n      <td>U</td>\n      <td>N</td>\n      <td>N</td>\n      <td>H</td>\n      <td>4.4</td>\n    </tr>\n    <tr>\n      <th>4</th>\n      <td>CVE-2021-0005</td>\n      <td>Uncaught exception in firmware for Intel(R) Et...</td>\n      <td>L</td>\n      <td>L</td>\n      <td>H</td>\n      <td>N</td>\n      <td>U</td>\n      <td>N</td>\n      <td>N</td>\n      <td>H</td>\n      <td>4.4</td>\n    </tr>\n    <tr>\n      <th>...</th>\n      <td>...</td>\n      <td>...</td>\n      <td>...</td>\n      <td>...</td>\n      <td>...</td>\n      <td>...</td>\n      <td>...</td>\n      <td>...</td>\n      <td>...</td>\n      <td>...</td>\n      <td>...</td>\n    </tr>\n    <tr>\n      <th>101729</th>\n      <td>CVE-2016-9989</td>\n      <td>IBM Jazz Foundation Reporting Service (JRS) is...</td>\n      <td>N</td>\n      <td>L</td>\n      <td>L</td>\n      <td>R</td>\n      <td>C</td>\n      <td>L</td>\n      <td>L</td>\n      <td>N</td>\n      <td>5.4</td>\n    </tr>\n    <tr>\n      <th>101730</th>\n      <td>CVE-2016-9991</td>\n      <td>IBM Sterling Order Management is vulnerable to...</td>\n      <td>N</td>\n      <td>L</td>\n      <td>L</td>\n      <td>R</td>\n      <td>U</td>\n      <td>H</td>\n      <td>H</td>\n      <td>H</td>\n      <td>8.0</td>\n    </tr>\n    <tr>\n      <th>101731</th>\n      <td>CVE-2016-9992</td>\n      <td>IBM Kenexa LCMS Premier on Cloud is vulnerable...</td>\n      <td>N</td>\n      <td>L</td>\n      <td>L</td>\n      <td>N</td>\n      <td>U</td>\n      <td>H</td>\n      <td>L</td>\n      <td>N</td>\n      <td>7.1</td>\n    </tr>\n    <tr>\n      <th>101732</th>\n      <td>CVE-2016-9993</td>\n      <td>IBM Kenexa LCMS Premier on Cloud is vulnerable...</td>\n      <td>N</td>\n      <td>L</td>\n      <td>L</td>\n      <td>N</td>\n      <td>U</td>\n      <td>H</td>\n      <td>L</td>\n      <td>N</td>\n      <td>7.1</td>\n    </tr>\n    <tr>\n      <th>101733</th>\n      <td>CVE-2016-9994</td>\n      <td>IBM Kenexa LCMS Premier on Cloud is vulnerable...</td>\n      <td>N</td>\n      <td>L</td>\n      <td>L</td>\n      <td>N</td>\n      <td>U</td>\n      <td>H</td>\n      <td>L</td>\n      <td>N</td>\n      <td>7.1</td>\n    </tr>\n  </tbody>\n</table>\n<p>101400 rows × 11 columns</p>\n</div>"
     },
     "execution_count": 6,
     "metadata": {},
     "output_type": "execute_result"
    }
   ],
   "source": [
    "TEST_SPLIT = 25\n",
    "\n",
    "df_group: DataFrame = df.groupby(['id'])\n",
    "df_group.head()"
   ],
   "metadata": {
    "collapsed": false,
    "pycharm": {
     "name": "#%%\n"
    }
   }
  },
  {
   "cell_type": "code",
   "execution_count": 7,
   "outputs": [
    {
     "name": "stdout",
     "output_type": "stream",
     "text": [
      "(76300, 11)\n",
      "(25434, 11)\n"
     ]
    },
    {
     "data": {
      "text/plain": "              id                                               text av ac pr  \\\n0  CVE-2016-0003  Microsoft Edge allows remote attackers to exec...  N  L  N   \n1  CVE-2016-0003  This vulnerability allows remote attackers to ...  N  L  N   \n2  CVE-2016-0011  Microsoft SharePoint Server 2013 SP1 and Share...  N  L  L   \n3  CVE-2016-0016  Microsoft Windows Vista SP2, Windows Server 20...  L  L  L   \n4  CVE-2016-0021  Microsoft InfoPath 2007 SP3, 2010 SP2, and 201...  L  L  N   \n\n  ui  s  c  i  a  score  \n0  R  C  H  H  H    9.6  \n1  R  C  H  H  H    9.6  \n2  R  C  L  L  N    5.4  \n3  N  U  H  H  H    7.8  \n4  R  U  H  H  H    7.8  ",
      "text/html": "<div>\n<style scoped>\n    .dataframe tbody tr th:only-of-type {\n        vertical-align: middle;\n    }\n\n    .dataframe tbody tr th {\n        vertical-align: top;\n    }\n\n    .dataframe thead th {\n        text-align: right;\n    }\n</style>\n<table border=\"1\" class=\"dataframe\">\n  <thead>\n    <tr style=\"text-align: right;\">\n      <th></th>\n      <th>id</th>\n      <th>text</th>\n      <th>av</th>\n      <th>ac</th>\n      <th>pr</th>\n      <th>ui</th>\n      <th>s</th>\n      <th>c</th>\n      <th>i</th>\n      <th>a</th>\n      <th>score</th>\n    </tr>\n  </thead>\n  <tbody>\n    <tr>\n      <th>0</th>\n      <td>CVE-2016-0003</td>\n      <td>Microsoft Edge allows remote attackers to exec...</td>\n      <td>N</td>\n      <td>L</td>\n      <td>N</td>\n      <td>R</td>\n      <td>C</td>\n      <td>H</td>\n      <td>H</td>\n      <td>H</td>\n      <td>9.6</td>\n    </tr>\n    <tr>\n      <th>1</th>\n      <td>CVE-2016-0003</td>\n      <td>This vulnerability allows remote attackers to ...</td>\n      <td>N</td>\n      <td>L</td>\n      <td>N</td>\n      <td>R</td>\n      <td>C</td>\n      <td>H</td>\n      <td>H</td>\n      <td>H</td>\n      <td>9.6</td>\n    </tr>\n    <tr>\n      <th>2</th>\n      <td>CVE-2016-0011</td>\n      <td>Microsoft SharePoint Server 2013 SP1 and Share...</td>\n      <td>N</td>\n      <td>L</td>\n      <td>L</td>\n      <td>R</td>\n      <td>C</td>\n      <td>L</td>\n      <td>L</td>\n      <td>N</td>\n      <td>5.4</td>\n    </tr>\n    <tr>\n      <th>3</th>\n      <td>CVE-2016-0016</td>\n      <td>Microsoft Windows Vista SP2, Windows Server 20...</td>\n      <td>L</td>\n      <td>L</td>\n      <td>L</td>\n      <td>N</td>\n      <td>U</td>\n      <td>H</td>\n      <td>H</td>\n      <td>H</td>\n      <td>7.8</td>\n    </tr>\n    <tr>\n      <th>4</th>\n      <td>CVE-2016-0021</td>\n      <td>Microsoft InfoPath 2007 SP3, 2010 SP2, and 201...</td>\n      <td>L</td>\n      <td>L</td>\n      <td>N</td>\n      <td>R</td>\n      <td>U</td>\n      <td>H</td>\n      <td>H</td>\n      <td>H</td>\n      <td>7.8</td>\n    </tr>\n  </tbody>\n</table>\n</div>"
     },
     "execution_count": 7,
     "metadata": {},
     "output_type": "execute_result"
    }
   ],
   "source": [
    "train_rows = []\n",
    "test_rows = []\n",
    "for id, group in df_group:\n",
    "    ratio = len(train_rows) / (len(test_rows) + len(train_rows)) if len(train_rows) else 0\n",
    "    l = group.values.tolist()\n",
    "    if ratio > 0.75:\n",
    "        for r in l:\n",
    "            test_rows.append(r)\n",
    "    else:\n",
    "        for r in l:\n",
    "            train_rows.append(r)\n",
    "\n",
    "\n",
    "df_train = pd.DataFrame(train_rows, columns=['id', 'text', 'av', 'ac', 'pr', 'ui', 's', 'c', 'i', 'a', 'score'])\n",
    "df_test = pd.DataFrame(test_rows, columns=['id', 'text', 'av', 'ac', 'pr', 'ui', 's', 'c', 'i', 'a', 'score'])\n",
    "print(df_train.shape)\n",
    "print(df_test.shape)\n",
    "df_test.head()"
   ],
   "metadata": {
    "collapsed": false,
    "pycharm": {
     "name": "#%%\n"
    }
   }
  },
  {
   "cell_type": "code",
   "execution_count": 8,
   "outputs": [
    {
     "data": {
      "text/plain": "0.7499950852222462"
     },
     "execution_count": 8,
     "metadata": {},
     "output_type": "execute_result"
    }
   ],
   "source": [
    "df_train.shape[0] / (df_train.shape[0] + df_test.shape[0])"
   ],
   "metadata": {
    "collapsed": false,
    "pycharm": {
     "name": "#%%\n"
    }
   }
  },
  {
   "cell_type": "markdown",
   "source": [
    "### Create Hf Dataset and Tokenize"
   ],
   "metadata": {
    "collapsed": false
   }
  },
  {
   "cell_type": "code",
   "execution_count": 9,
   "outputs": [],
   "source": [
    "train_dataset = Dataset.from_pandas(df_train)\n",
    "test_dataset = Dataset.from_pandas(df_test)"
   ],
   "metadata": {
    "collapsed": false,
    "pycharm": {
     "name": "#%%\n"
    }
   }
  },
  {
   "cell_type": "code",
   "execution_count": 14,
   "outputs": [
    {
     "data": {
      "text/plain": "  0%|          | 0/67 [00:00<?, ?ba/s]",
      "application/vnd.jupyter.widget-view+json": {
       "version_major": 2,
       "version_minor": 0,
       "model_id": "93d6d2a3f6d1452db226340b2dc8a4a5"
      }
     },
     "metadata": {},
     "output_type": "display_data"
    },
    {
     "data": {
      "text/plain": "  0%|          | 0/23 [00:00<?, ?ba/s]",
      "application/vnd.jupyter.widget-view+json": {
       "version_major": 2,
       "version_minor": 0,
       "model_id": "2072eade1ffb48c09285191a8be5375b"
      }
     },
     "metadata": {},
     "output_type": "display_data"
    }
   ],
   "source": [
    "tokenizer = AutoTokenizer.from_pretrained(model)\n",
    "\n",
    "def tokenize_function(sample):\n",
    "    return tokenizer(sample[\"text\"], padding=\"max_length\", truncation=True, max_length=512)\n",
    "\n",
    "\n",
    "tokenized_train_set = train_dataset.map(tokenize_function, batched=True)\n",
    "tokenized_test_set = test_dataset.map(tokenize_function, batched=True)"
   ],
   "metadata": {
    "collapsed": false,
    "pycharm": {
     "name": "#%%\n"
    }
   }
  },
  {
   "cell_type": "code",
   "execution_count": 15,
   "outputs": [
    {
     "name": "stdout",
     "output_type": "stream",
     "text": [
      "512\n"
     ]
    },
    {
     "data": {
      "text/plain": "{'id': 'CVE-2016-0002',\n 'text': 'The Microsoft (1) VBScript 5.7 and 5.8 and (2) JScript 5.7 and 5.8 engines, as used in Internet Explorer 8 through 11 and other products, allow remote attackers to execute arbitrary code via a crafted web site, aka \"Scripting Engine Memory Corruption Vulnerability.\"',\n 'av': 'N',\n 'ac': 'H',\n 'pr': 'N',\n 'ui': 'R',\n 's': 'U',\n 'c': 'H',\n 'i': 'H',\n 'a': 'H',\n 'score': 7.5,\n 'input_ids': [101,\n  1996,\n  7513,\n  1006,\n  1015,\n  1007,\n  1058,\n  5910,\n  23235,\n  1019,\n  1012,\n  1021,\n  1998,\n  1019,\n  1012,\n  1022,\n  1998,\n  1006,\n  1016,\n  1007,\n  1046,\n  22483,\n  1019,\n  1012,\n  1021,\n  1998,\n  1019,\n  1012,\n  1022,\n  5209,\n  1010,\n  2004,\n  2109,\n  1999,\n  4274,\n  10566,\n  1022,\n  2083,\n  2340,\n  1998,\n  2060,\n  3688,\n  1010,\n  3499,\n  6556,\n  17857,\n  2000,\n  15389,\n  15275,\n  3642,\n  3081,\n  1037,\n  19275,\n  4773,\n  2609,\n  1010,\n  9875,\n  1000,\n  5896,\n  2075,\n  3194,\n  3638,\n  7897,\n  18130,\n  1012,\n  1000,\n  102,\n  0,\n  0,\n  0,\n  0,\n  0,\n  0,\n  0,\n  0,\n  0,\n  0,\n  0,\n  0,\n  0,\n  0,\n  0,\n  0,\n  0,\n  0,\n  0,\n  0,\n  0,\n  0,\n  0,\n  0,\n  0,\n  0,\n  0,\n  0,\n  0,\n  0,\n  0,\n  0,\n  0,\n  0,\n  0,\n  0,\n  0,\n  0,\n  0,\n  0,\n  0,\n  0,\n  0,\n  0,\n  0,\n  0,\n  0,\n  0,\n  0,\n  0,\n  0,\n  0,\n  0,\n  0,\n  0,\n  0,\n  0,\n  0,\n  0,\n  0,\n  0,\n  0,\n  0,\n  0,\n  0,\n  0,\n  0,\n  0,\n  0,\n  0,\n  0,\n  0,\n  0,\n  0,\n  0,\n  0,\n  0,\n  0,\n  0,\n  0,\n  0,\n  0,\n  0,\n  0,\n  0,\n  0,\n  0,\n  0,\n  0,\n  0,\n  0,\n  0,\n  0,\n  0,\n  0,\n  0,\n  0,\n  0,\n  0,\n  0,\n  0,\n  0,\n  0,\n  0,\n  0,\n  0,\n  0,\n  0,\n  0,\n  0,\n  0,\n  0,\n  0,\n  0,\n  0,\n  0,\n  0,\n  0,\n  0,\n  0,\n  0,\n  0,\n  0,\n  0,\n  0,\n  0,\n  0,\n  0,\n  0,\n  0,\n  0,\n  0,\n  0,\n  0,\n  0,\n  0,\n  0,\n  0,\n  0,\n  0,\n  0,\n  0,\n  0,\n  0,\n  0,\n  0,\n  0,\n  0,\n  0,\n  0,\n  0,\n  0,\n  0,\n  0,\n  0,\n  0,\n  0,\n  0,\n  0,\n  0,\n  0,\n  0,\n  0,\n  0,\n  0,\n  0,\n  0,\n  0,\n  0,\n  0,\n  0,\n  0,\n  0,\n  0,\n  0,\n  0,\n  0,\n  0,\n  0,\n  0,\n  0,\n  0,\n  0,\n  0,\n  0,\n  0,\n  0,\n  0,\n  0,\n  0,\n  0,\n  0,\n  0,\n  0,\n  0,\n  0,\n  0,\n  0,\n  0,\n  0,\n  0,\n  0,\n  0,\n  0,\n  0,\n  0,\n  0,\n  0,\n  0,\n  0,\n  0,\n  0,\n  0,\n  0,\n  0,\n  0,\n  0,\n  0,\n  0,\n  0,\n  0,\n  0,\n  0,\n  0,\n  0,\n  0,\n  0,\n  0,\n  0,\n  0,\n  0,\n  0,\n  0,\n  0,\n  0,\n  0,\n  0,\n  0,\n  0,\n  0,\n  0,\n  0,\n  0,\n  0,\n  0,\n  0,\n  0,\n  0,\n  0,\n  0,\n  0,\n  0,\n  0,\n  0,\n  0,\n  0,\n  0,\n  0,\n  0,\n  0,\n  0,\n  0,\n  0,\n  0,\n  0,\n  0,\n  0,\n  0,\n  0,\n  0,\n  0,\n  0,\n  0,\n  0,\n  0,\n  0,\n  0,\n  0,\n  0,\n  0,\n  0,\n  0,\n  0,\n  0,\n  0,\n  0,\n  0,\n  0,\n  0,\n  0,\n  0,\n  0,\n  0,\n  0,\n  0,\n  0,\n  0,\n  0,\n  0,\n  0,\n  0,\n  0,\n  0,\n  0,\n  0,\n  0,\n  0,\n  0,\n  0,\n  0,\n  0,\n  0,\n  0,\n  0,\n  0,\n  0,\n  0,\n  0,\n  0,\n  0,\n  0,\n  0,\n  0,\n  0,\n  0,\n  0,\n  0,\n  0,\n  0,\n  0,\n  0,\n  0,\n  0,\n  0,\n  0,\n  0,\n  0,\n  0,\n  0,\n  0,\n  0,\n  0,\n  0,\n  0,\n  0,\n  0,\n  0,\n  0,\n  0,\n  0,\n  0,\n  0,\n  0,\n  0,\n  0,\n  0,\n  0,\n  0,\n  0,\n  0,\n  0,\n  0,\n  0,\n  0,\n  0,\n  0,\n  0,\n  0,\n  0,\n  0,\n  0,\n  0,\n  0,\n  0,\n  0,\n  0,\n  0,\n  0,\n  0,\n  0,\n  0,\n  0,\n  0,\n  0,\n  0,\n  0,\n  0,\n  0,\n  0,\n  0,\n  0,\n  0,\n  0,\n  0,\n  0,\n  0,\n  0,\n  0,\n  0,\n  0,\n  0,\n  0,\n  0,\n  0,\n  0,\n  0,\n  0,\n  0,\n  0,\n  0,\n  0,\n  0,\n  0,\n  0,\n  0,\n  0,\n  0,\n  0,\n  0,\n  0,\n  0,\n  0,\n  0,\n  0,\n  0,\n  0,\n  0,\n  0,\n  0,\n  0,\n  0,\n  0,\n  0,\n  0,\n  0,\n  0,\n  0,\n  0,\n  0,\n  0,\n  0,\n  0,\n  0,\n  0,\n  0],\n 'attention_mask': [1,\n  1,\n  1,\n  1,\n  1,\n  1,\n  1,\n  1,\n  1,\n  1,\n  1,\n  1,\n  1,\n  1,\n  1,\n  1,\n  1,\n  1,\n  1,\n  1,\n  1,\n  1,\n  1,\n  1,\n  1,\n  1,\n  1,\n  1,\n  1,\n  1,\n  1,\n  1,\n  1,\n  1,\n  1,\n  1,\n  1,\n  1,\n  1,\n  1,\n  1,\n  1,\n  1,\n  1,\n  1,\n  1,\n  1,\n  1,\n  1,\n  1,\n  1,\n  1,\n  1,\n  1,\n  1,\n  1,\n  1,\n  1,\n  1,\n  1,\n  1,\n  1,\n  1,\n  1,\n  1,\n  1,\n  1,\n  0,\n  0,\n  0,\n  0,\n  0,\n  0,\n  0,\n  0,\n  0,\n  0,\n  0,\n  0,\n  0,\n  0,\n  0,\n  0,\n  0,\n  0,\n  0,\n  0,\n  0,\n  0,\n  0,\n  0,\n  0,\n  0,\n  0,\n  0,\n  0,\n  0,\n  0,\n  0,\n  0,\n  0,\n  0,\n  0,\n  0,\n  0,\n  0,\n  0,\n  0,\n  0,\n  0,\n  0,\n  0,\n  0,\n  0,\n  0,\n  0,\n  0,\n  0,\n  0,\n  0,\n  0,\n  0,\n  0,\n  0,\n  0,\n  0,\n  0,\n  0,\n  0,\n  0,\n  0,\n  0,\n  0,\n  0,\n  0,\n  0,\n  0,\n  0,\n  0,\n  0,\n  0,\n  0,\n  0,\n  0,\n  0,\n  0,\n  0,\n  0,\n  0,\n  0,\n  0,\n  0,\n  0,\n  0,\n  0,\n  0,\n  0,\n  0,\n  0,\n  0,\n  0,\n  0,\n  0,\n  0,\n  0,\n  0,\n  0,\n  0,\n  0,\n  0,\n  0,\n  0,\n  0,\n  0,\n  0,\n  0,\n  0,\n  0,\n  0,\n  0,\n  0,\n  0,\n  0,\n  0,\n  0,\n  0,\n  0,\n  0,\n  0,\n  0,\n  0,\n  0,\n  0,\n  0,\n  0,\n  0,\n  0,\n  0,\n  0,\n  0,\n  0,\n  0,\n  0,\n  0,\n  0,\n  0,\n  0,\n  0,\n  0,\n  0,\n  0,\n  0,\n  0,\n  0,\n  0,\n  0,\n  0,\n  0,\n  0,\n  0,\n  0,\n  0,\n  0,\n  0,\n  0,\n  0,\n  0,\n  0,\n  0,\n  0,\n  0,\n  0,\n  0,\n  0,\n  0,\n  0,\n  0,\n  0,\n  0,\n  0,\n  0,\n  0,\n  0,\n  0,\n  0,\n  0,\n  0,\n  0,\n  0,\n  0,\n  0,\n  0,\n  0,\n  0,\n  0,\n  0,\n  0,\n  0,\n  0,\n  0,\n  0,\n  0,\n  0,\n  0,\n  0,\n  0,\n  0,\n  0,\n  0,\n  0,\n  0,\n  0,\n  0,\n  0,\n  0,\n  0,\n  0,\n  0,\n  0,\n  0,\n  0,\n  0,\n  0,\n  0,\n  0,\n  0,\n  0,\n  0,\n  0,\n  0,\n  0,\n  0,\n  0,\n  0,\n  0,\n  0,\n  0,\n  0,\n  0,\n  0,\n  0,\n  0,\n  0,\n  0,\n  0,\n  0,\n  0,\n  0,\n  0,\n  0,\n  0,\n  0,\n  0,\n  0,\n  0,\n  0,\n  0,\n  0,\n  0,\n  0,\n  0,\n  0,\n  0,\n  0,\n  0,\n  0,\n  0,\n  0,\n  0,\n  0,\n  0,\n  0,\n  0,\n  0,\n  0,\n  0,\n  0,\n  0,\n  0,\n  0,\n  0,\n  0,\n  0,\n  0,\n  0,\n  0,\n  0,\n  0,\n  0,\n  0,\n  0,\n  0,\n  0,\n  0,\n  0,\n  0,\n  0,\n  0,\n  0,\n  0,\n  0,\n  0,\n  0,\n  0,\n  0,\n  0,\n  0,\n  0,\n  0,\n  0,\n  0,\n  0,\n  0,\n  0,\n  0,\n  0,\n  0,\n  0,\n  0,\n  0,\n  0,\n  0,\n  0,\n  0,\n  0,\n  0,\n  0,\n  0,\n  0,\n  0,\n  0,\n  0,\n  0,\n  0,\n  0,\n  0,\n  0,\n  0,\n  0,\n  0,\n  0,\n  0,\n  0,\n  0,\n  0,\n  0,\n  0,\n  0,\n  0,\n  0,\n  0,\n  0,\n  0,\n  0,\n  0,\n  0,\n  0,\n  0,\n  0,\n  0,\n  0,\n  0,\n  0,\n  0,\n  0,\n  0,\n  0,\n  0,\n  0,\n  0,\n  0,\n  0,\n  0,\n  0,\n  0,\n  0,\n  0,\n  0,\n  0,\n  0,\n  0,\n  0,\n  0,\n  0,\n  0,\n  0,\n  0,\n  0,\n  0,\n  0,\n  0,\n  0,\n  0,\n  0,\n  0,\n  0,\n  0,\n  0,\n  0,\n  0,\n  0,\n  0,\n  0,\n  0,\n  0,\n  0,\n  0,\n  0,\n  0,\n  0,\n  0,\n  0,\n  0,\n  0,\n  0,\n  0,\n  0,\n  0,\n  0,\n  0,\n  0,\n  0,\n  0,\n  0,\n  0,\n  0,\n  0,\n  0,\n  0,\n  0,\n  0,\n  0,\n  0,\n  0,\n  0,\n  0,\n  0,\n  0,\n  0,\n  0,\n  0,\n  0,\n  0,\n  0,\n  0,\n  0,\n  0,\n  0,\n  0,\n  0,\n  0,\n  0]}"
     },
     "execution_count": 15,
     "metadata": {},
     "output_type": "execute_result"
    }
   ],
   "source": [
    "print(len(tokenized_train_set[0]['input_ids']))\n",
    "tokenized_train_set[0]"
   ],
   "metadata": {
    "collapsed": false,
    "pycharm": {
     "name": "#%%\n"
    }
   }
  },
  {
   "cell_type": "markdown",
   "source": [
    "### Save Datasets"
   ],
   "metadata": {
    "collapsed": false
   }
  },
  {
   "cell_type": "code",
   "execution_count": 16,
   "outputs": [
    {
     "data": {
      "text/plain": "Creating json from Arrow format:   0%|          | 0/7 [00:00<?, ?ba/s]",
      "application/vnd.jupyter.widget-view+json": {
       "version_major": 2,
       "version_minor": 0,
       "model_id": "02fba778ac8b43a2adb79ace2dca5866"
      }
     },
     "metadata": {},
     "output_type": "display_data"
    },
    {
     "data": {
      "text/plain": "Creating json from Arrow format:   0%|          | 0/3 [00:00<?, ?ba/s]",
      "application/vnd.jupyter.widget-view+json": {
       "version_major": 2,
       "version_minor": 0,
       "model_id": "d403073a246442978ebfc8151bda6219"
      }
     },
     "metadata": {},
     "output_type": "display_data"
    },
    {
     "data": {
      "text/plain": "61254783"
     },
     "execution_count": 16,
     "metadata": {},
     "output_type": "execute_result"
    }
   ],
   "source": [
    "tokenized_train_set.to_json(f'dataset/{model_name}/train_descriptions_only.json')\n",
    "tokenized_test_set.to_json(f'dataset/{model_name}/test_descriptions_only.json')"
   ],
   "metadata": {
    "collapsed": false,
    "pycharm": {
     "name": "#%%\n"
    }
   }
  }
 ],
 "metadata": {
  "kernelspec": {
   "display_name": "Python 3",
   "language": "python",
   "name": "python3"
  },
  "language_info": {
   "codemirror_mode": {
    "name": "ipython",
    "version": 2
   },
   "file_extension": ".py",
   "mimetype": "text/x-python",
   "name": "python",
   "nbconvert_exporter": "python",
   "pygments_lexer": "ipython2",
   "version": "2.7.6"
  }
 },
 "nbformat": 4,
 "nbformat_minor": 0
}